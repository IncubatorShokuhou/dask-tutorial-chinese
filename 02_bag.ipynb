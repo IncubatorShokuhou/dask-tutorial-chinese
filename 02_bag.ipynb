{
 "cells": [
  {
   "cell_type": "markdown",
   "metadata": {},
   "source": [
    "<img src=\"images/dask_horizontal.svg\" align=\"right\" width=\"30%\">"
   ]
  },
  {
   "cell_type": "markdown",
   "metadata": {},
   "source": [
    "# Bag：半结构化数据的并行列表"
   ]
  },
  {
   "cell_type": "markdown",
   "metadata": {},
   "source": [
    "Dask-bag擅长处理可以表示为任意输入序列的数据。 我们将其称为“混乱”数据，因为它可能包含复杂的嵌套结构，缺少的字段，数据类型的混合等。 *functional*编程风格非常适合标准Python迭代，例如可以在`itertools`模块中找到。\n",
    "\n",
    "当首先使用大量原始数据时，在数据处理管道的开头经常会遇到混乱数据。 初始数据集可以是JSON，CSV，XML或任何其他不强制使用严格结构和数据类型的格式。\n",
    "因此，通常使用Python`list`，`dict`和`set`进行初始数据的批量处理。\n",
    "\n",
    "这些核心数据结构针对通用存储和处理进行了优化。 通过迭代器/生成器表达式或诸如`itertools`或[`toolz`](https://toolz.readthedocs.io/en/latest/)之类的库添加流计算，可以使我们在较小的空间中处理大量数据。 如果我们将其与并行处理相结合，那么我们就可以处理大量数据。\n",
    "\n",
    "Dask.bag是高级Dask集合，可自动执行此表单的常见工作负载。  简而言之\n",
    "\n",
    "    dask.bag = map, filter, toolz + parallel execution\n",
    "    \n",
    "**相关文档**\n",
    "\n",
    "* [Bag documentation](https://docs.dask.org/en/latest/bag.html)\n",
    "* [Bag screencast](https://youtu.be/-qIiJ1XtSv0)\n",
    "* [Bag API](https://docs.dask.org/en/latest/bag-api.html)\n",
    "* [Bag examples](https://examples.dask.org/bag.html)"
   ]
  },
  {
   "cell_type": "markdown",
   "metadata": {},
   "source": [
    "## 创建数据"
   ]
  },
  {
   "cell_type": "code",
   "execution_count": 1,
   "metadata": {},
   "outputs": [
    {
     "name": "stdout",
     "output_type": "stream",
     "text": [
      "Created CSV acccouts in 3.11s\n",
      "Created JSON acccouts in 29.05s\n"
     ]
    }
   ],
   "source": [
    "%run prep.py -d accounts"
   ]
  },
  {
   "cell_type": "markdown",
   "metadata": {},
   "source": [
    "## Setup"
   ]
  },
  {
   "cell_type": "markdown",
   "metadata": {},
   "source": [
    "同样，我们将使用分布式调度程序。 调度程序将在[以后](05_distributed.ipynb)更详细地解释。"
   ]
  },
  {
   "cell_type": "code",
   "execution_count": 2,
   "metadata": {},
   "outputs": [],
   "source": [
    "from dask.distributed import Client\n",
    "\n",
    "client = Client(n_workers=4)"
   ]
  },
  {
   "cell_type": "markdown",
   "metadata": {},
   "source": [
    "## Creation"
   ]
  },
  {
   "cell_type": "markdown",
   "metadata": {},
   "source": [
    "您可以由Python序列，文件，S3上的数据等来创建`bag`。   \n",
    "\n",
    "我们演示了使用`.take()`来显示数据元素。 （执行`.take(1)`会显示包含一个元素的一个元组）  \n",
    "\n",
    "注意，数据被划分为块，每个块有很多项。 在第一个示例中，两个分区每个包含五个元素，在接下来的两个示例中，每个文件被划分为一个或多个字节块。"
   ]
  },
  {
   "cell_type": "code",
   "execution_count": 3,
   "metadata": {},
   "outputs": [
    {
     "data": {
      "text/plain": [
       "(1, 2, 3)"
      ]
     },
     "execution_count": 3,
     "metadata": {},
     "output_type": "execute_result"
    }
   ],
   "source": [
    "# 每个元素都是一个整数\n",
    "import dask.bag as db\n",
    "b = db.from_sequence([1, 2, 3, 4, 5, 6, 7, 8, 9, 10], npartitions=2)\n",
    "b.take(3)"
   ]
  },
  {
   "cell_type": "code",
   "execution_count": 5,
   "metadata": {},
   "outputs": [
    {
     "data": {
      "text/plain": [
       "('{\"id\": 0, \"name\": \"Jerry\", \"transactions\": [{\"transaction-id\": 576, \"amount\": -679}, {\"transaction-id\": 854, \"amount\": -841}, {\"transaction-id\": 1193, \"amount\": -809}, {\"transaction-id\": 1506, \"amount\": -801}, {\"transaction-id\": 1572, \"amount\": -1008}, {\"transaction-id\": 2081, \"amount\": -923}, {\"transaction-id\": 3496, \"amount\": -750}, {\"transaction-id\": 4068, \"amount\": -793}, {\"transaction-id\": 4335, \"amount\": -849}, {\"transaction-id\": 4519, \"amount\": -819}, {\"transaction-id\": 4768, \"amount\": -682}, {\"transaction-id\": 5055, \"amount\": -548}, {\"transaction-id\": 5157, \"amount\": -607}, {\"transaction-id\": 5797, \"amount\": -896}, {\"transaction-id\": 6144, \"amount\": -901}, {\"transaction-id\": 6830, \"amount\": -930}, {\"transaction-id\": 8151, \"amount\": -924}, {\"transaction-id\": 9486, \"amount\": -778}, {\"transaction-id\": 10559, \"amount\": -1071}, {\"transaction-id\": 11374, \"amount\": -648}, {\"transaction-id\": 11770, \"amount\": -876}, {\"transaction-id\": 13495, \"amount\": -859}, {\"transaction-id\": 13871, \"amount\": -741}, {\"transaction-id\": 13899, \"amount\": -698}, {\"transaction-id\": 14194, \"amount\": -673}, {\"transaction-id\": 14291, \"amount\": -741}, {\"transaction-id\": 14757, \"amount\": -780}, {\"transaction-id\": 15029, \"amount\": -644}, {\"transaction-id\": 15908, \"amount\": -831}, {\"transaction-id\": 23265, \"amount\": -644}, {\"transaction-id\": 23664, \"amount\": -718}, {\"transaction-id\": 23951, \"amount\": -798}, {\"transaction-id\": 24999, \"amount\": -874}, {\"transaction-id\": 25783, \"amount\": -829}, {\"transaction-id\": 25989, \"amount\": -583}, {\"transaction-id\": 26068, \"amount\": -637}, {\"transaction-id\": 26252, \"amount\": -854}, {\"transaction-id\": 27042, \"amount\": -780}, {\"transaction-id\": 30109, \"amount\": -894}, {\"transaction-id\": 30868, \"amount\": -585}, {\"transaction-id\": 30961, \"amount\": -814}, {\"transaction-id\": 32608, \"amount\": -682}, {\"transaction-id\": 35488, \"amount\": -633}, {\"transaction-id\": 35970, \"amount\": -1118}, {\"transaction-id\": 36198, \"amount\": -671}, {\"transaction-id\": 36357, \"amount\": -763}, {\"transaction-id\": 37121, \"amount\": -605}, {\"transaction-id\": 37267, \"amount\": -752}, {\"transaction-id\": 39787, \"amount\": -776}, {\"transaction-id\": 41846, \"amount\": -728}, {\"transaction-id\": 41891, \"amount\": -714}, {\"transaction-id\": 41931, \"amount\": -1149}, {\"transaction-id\": 42913, \"amount\": -949}, {\"transaction-id\": 44477, \"amount\": -649}, {\"transaction-id\": 45371, \"amount\": -599}, {\"transaction-id\": 45494, \"amount\": -524}, {\"transaction-id\": 46921, \"amount\": -752}, {\"transaction-id\": 47857, \"amount\": -802}, {\"transaction-id\": 48092, \"amount\": -916}, {\"transaction-id\": 48110, \"amount\": -965}, {\"transaction-id\": 49413, \"amount\": -893}, {\"transaction-id\": 49896, \"amount\": -659}, {\"transaction-id\": 50885, \"amount\": -725}, {\"transaction-id\": 52015, \"amount\": -731}, {\"transaction-id\": 52424, \"amount\": -912}, {\"transaction-id\": 52982, \"amount\": -706}, {\"transaction-id\": 53286, \"amount\": -864}, {\"transaction-id\": 53398, \"amount\": -967}, {\"transaction-id\": 54404, \"amount\": -682}, {\"transaction-id\": 54903, \"amount\": -885}, {\"transaction-id\": 56708, \"amount\": -1042}, {\"transaction-id\": 56717, \"amount\": -1043}, {\"transaction-id\": 59232, \"amount\": -1017}, {\"transaction-id\": 59608, \"amount\": -668}, {\"transaction-id\": 60183, \"amount\": -986}, {\"transaction-id\": 60864, \"amount\": -745}, {\"transaction-id\": 62237, \"amount\": -781}, {\"transaction-id\": 63975, \"amount\": -701}, {\"transaction-id\": 64208, \"amount\": -544}, {\"transaction-id\": 64919, \"amount\": -835}, {\"transaction-id\": 66197, \"amount\": -750}, {\"transaction-id\": 66923, \"amount\": -943}, {\"transaction-id\": 68374, \"amount\": -636}, {\"transaction-id\": 68589, \"amount\": -643}, {\"transaction-id\": 69016, \"amount\": -543}, {\"transaction-id\": 69813, \"amount\": -806}, {\"transaction-id\": 70664, \"amount\": -823}, {\"transaction-id\": 70924, \"amount\": -886}, {\"transaction-id\": 72816, \"amount\": -582}, {\"transaction-id\": 72964, \"amount\": -828}, {\"transaction-id\": 73992, \"amount\": -756}, {\"transaction-id\": 74476, \"amount\": -672}, {\"transaction-id\": 76080, \"amount\": -810}, {\"transaction-id\": 78223, \"amount\": -787}, {\"transaction-id\": 78409, \"amount\": -978}, {\"transaction-id\": 79001, \"amount\": -759}, {\"transaction-id\": 79923, \"amount\": -687}, {\"transaction-id\": 82399, \"amount\": -930}, {\"transaction-id\": 82506, \"amount\": -730}, {\"transaction-id\": 84181, \"amount\": -964}, {\"transaction-id\": 84188, \"amount\": -908}, {\"transaction-id\": 84390, \"amount\": -616}, {\"transaction-id\": 84753, \"amount\": -864}, {\"transaction-id\": 85430, \"amount\": -757}, {\"transaction-id\": 85808, \"amount\": -1015}, {\"transaction-id\": 85925, \"amount\": -650}, {\"transaction-id\": 86989, \"amount\": -816}, {\"transaction-id\": 87229, \"amount\": -1003}, {\"transaction-id\": 87745, \"amount\": -711}, {\"transaction-id\": 87942, \"amount\": -765}, {\"transaction-id\": 88137, \"amount\": -814}, {\"transaction-id\": 88741, \"amount\": -647}, {\"transaction-id\": 90240, \"amount\": -899}, {\"transaction-id\": 92205, \"amount\": -665}, {\"transaction-id\": 92544, \"amount\": -793}, {\"transaction-id\": 93094, \"amount\": -682}, {\"transaction-id\": 93281, \"amount\": -779}, {\"transaction-id\": 94795, \"amount\": -670}, {\"transaction-id\": 95311, \"amount\": -741}, {\"transaction-id\": 95658, \"amount\": -653}, {\"transaction-id\": 95879, \"amount\": -666}, {\"transaction-id\": 96589, \"amount\": -771}, {\"transaction-id\": 98481, \"amount\": -813}, {\"transaction-id\": 98594, \"amount\": -956}]}\\n',)"
      ]
     },
     "execution_count": 5,
     "metadata": {},
     "output_type": "execute_result"
    }
   ],
   "source": [
    "# 每个元素都是一个文本文件，其中每一行都是一个JSON对象\n",
    "# 注意压缩是自动处理的\n",
    "import os\n",
    "b = db.read_text(os.path.join('data', 'accounts.*.json.gz'))\n",
    "b.take(1)"
   ]
  },
  {
   "cell_type": "code",
   "execution_count": 6,
   "metadata": {},
   "outputs": [
    {
     "data": {
      "text/plain": [
       "'s3://dask-data/nyc-taxi/2015/yellow_tripdata_2015-01.csv'"
      ]
     },
     "execution_count": 6,
     "metadata": {},
     "output_type": "execute_result"
    }
   ],
   "source": [
    "# 编辑sources.py以配置源位置\n",
    "import sources\n",
    "sources.bag_url"
   ]
  },
  {
   "cell_type": "code",
   "execution_count": 8,
   "metadata": {},
   "outputs": [
    {
     "data": {
      "text/plain": [
       "('VendorID,tpep_pickup_datetime,tpep_dropoff_datetime,passenger_count,trip_distance,pickup_longitude,pickup_latitude,RateCodeID,store_and_fwd_flag,dropoff_longitude,dropoff_latitude,payment_type,fare_amount,extra,mta_tax,tip_amount,tolls_amount,improvement_surcharge,total_amount\\n',)"
      ]
     },
     "execution_count": 8,
     "metadata": {},
     "output_type": "execute_result"
    }
   ],
   "source": [
    "# Requires `s3fs` library\n",
    "# each partition is a remote CSV text file\n",
    "b = db.read_text(sources.bag_url,\n",
    "                 storage_options={'anon': True})\n",
    "b.take(1)"
   ]
  },
  {
   "cell_type": "markdown",
   "metadata": {},
   "source": [
    "## 操作"
   ]
  },
  {
   "cell_type": "markdown",
   "metadata": {},
   "source": [
    "`Bag`对象保存在Python标准库，`toolz`或`pyspark`等项目中找到的标准功能性API，包括`map`, `filter`, `groupby`等。  \n",
    "\n",
    "对`Bag`对象的操作会创建新的包。 调用`.compute()`方法以触发执行，正如我们对`Delayed`对象所见。"
   ]
  },
  {
   "cell_type": "code",
   "execution_count": 9,
   "metadata": {},
   "outputs": [
    {
     "data": {
      "text/plain": [
       "dask.bag<lambda, npartitions=10>"
      ]
     },
     "execution_count": 9,
     "metadata": {},
     "output_type": "execute_result"
    }
   ],
   "source": [
    "def is_even(n):\n",
    "    return n % 2 == 0\n",
    "\n",
    "b = db.from_sequence([1, 2, 3, 4, 5, 6, 7, 8, 9, 10])\n",
    "c = b.filter(is_even).map(lambda x: x ** 2)\n",
    "c"
   ]
  },
  {
   "cell_type": "code",
   "execution_count": 11,
   "metadata": {},
   "outputs": [
    {
     "data": {
      "text/plain": [
       "[4, 16, 36, 64, 100]"
      ]
     },
     "execution_count": 11,
     "metadata": {},
     "output_type": "execute_result"
    }
   ],
   "source": [
    "# 阻止形式：等待完成（这种情况下非常快）\n",
    "c.compute()"
   ]
  },
  {
   "cell_type": "markdown",
   "metadata": {},
   "source": [
    "### 示例：认定JSON数据"
   ]
  },
  {
   "cell_type": "markdown",
   "metadata": {},
   "source": [
    "我们在您的数据目录中创建了一个gzip JSON数据的伪数据集。 就像稍后将在`DataFrame`示例中使用的示例一样，不同之处在于它已将每个`id`的全部捆绑为一条记录。 这类似于您可能从文档存储数据库或Web API收集的数据。\n",
    "\n",
    "每行都是JSON编码的字典，其中包含以下键\n",
    "\n",
    "*  id: 客户的唯一标识符\n",
    "*  name: 客户名称\n",
    "*  transactions: `transaction-id`, `amount`对的列表，该文件中客户的每笔交易一对"
   ]
  },
  {
   "cell_type": "code",
   "execution_count": 12,
   "metadata": {},
   "outputs": [
    {
     "data": {
      "text/plain": [
       "('{\"id\": 0, \"name\": \"Jerry\", \"transactions\": [{\"transaction-id\": 576, \"amount\": -679}, {\"transaction-id\": 854, \"amount\": -841}, {\"transaction-id\": 1193, \"amount\": -809}, {\"transaction-id\": 1506, \"amount\": -801}, {\"transaction-id\": 1572, \"amount\": -1008}, {\"transaction-id\": 2081, \"amount\": -923}, {\"transaction-id\": 3496, \"amount\": -750}, {\"transaction-id\": 4068, \"amount\": -793}, {\"transaction-id\": 4335, \"amount\": -849}, {\"transaction-id\": 4519, \"amount\": -819}, {\"transaction-id\": 4768, \"amount\": -682}, {\"transaction-id\": 5055, \"amount\": -548}, {\"transaction-id\": 5157, \"amount\": -607}, {\"transaction-id\": 5797, \"amount\": -896}, {\"transaction-id\": 6144, \"amount\": -901}, {\"transaction-id\": 6830, \"amount\": -930}, {\"transaction-id\": 8151, \"amount\": -924}, {\"transaction-id\": 9486, \"amount\": -778}, {\"transaction-id\": 10559, \"amount\": -1071}, {\"transaction-id\": 11374, \"amount\": -648}, {\"transaction-id\": 11770, \"amount\": -876}, {\"transaction-id\": 13495, \"amount\": -859}, {\"transaction-id\": 13871, \"amount\": -741}, {\"transaction-id\": 13899, \"amount\": -698}, {\"transaction-id\": 14194, \"amount\": -673}, {\"transaction-id\": 14291, \"amount\": -741}, {\"transaction-id\": 14757, \"amount\": -780}, {\"transaction-id\": 15029, \"amount\": -644}, {\"transaction-id\": 15908, \"amount\": -831}, {\"transaction-id\": 23265, \"amount\": -644}, {\"transaction-id\": 23664, \"amount\": -718}, {\"transaction-id\": 23951, \"amount\": -798}, {\"transaction-id\": 24999, \"amount\": -874}, {\"transaction-id\": 25783, \"amount\": -829}, {\"transaction-id\": 25989, \"amount\": -583}, {\"transaction-id\": 26068, \"amount\": -637}, {\"transaction-id\": 26252, \"amount\": -854}, {\"transaction-id\": 27042, \"amount\": -780}, {\"transaction-id\": 30109, \"amount\": -894}, {\"transaction-id\": 30868, \"amount\": -585}, {\"transaction-id\": 30961, \"amount\": -814}, {\"transaction-id\": 32608, \"amount\": -682}, {\"transaction-id\": 35488, \"amount\": -633}, {\"transaction-id\": 35970, \"amount\": -1118}, {\"transaction-id\": 36198, \"amount\": -671}, {\"transaction-id\": 36357, \"amount\": -763}, {\"transaction-id\": 37121, \"amount\": -605}, {\"transaction-id\": 37267, \"amount\": -752}, {\"transaction-id\": 39787, \"amount\": -776}, {\"transaction-id\": 41846, \"amount\": -728}, {\"transaction-id\": 41891, \"amount\": -714}, {\"transaction-id\": 41931, \"amount\": -1149}, {\"transaction-id\": 42913, \"amount\": -949}, {\"transaction-id\": 44477, \"amount\": -649}, {\"transaction-id\": 45371, \"amount\": -599}, {\"transaction-id\": 45494, \"amount\": -524}, {\"transaction-id\": 46921, \"amount\": -752}, {\"transaction-id\": 47857, \"amount\": -802}, {\"transaction-id\": 48092, \"amount\": -916}, {\"transaction-id\": 48110, \"amount\": -965}, {\"transaction-id\": 49413, \"amount\": -893}, {\"transaction-id\": 49896, \"amount\": -659}, {\"transaction-id\": 50885, \"amount\": -725}, {\"transaction-id\": 52015, \"amount\": -731}, {\"transaction-id\": 52424, \"amount\": -912}, {\"transaction-id\": 52982, \"amount\": -706}, {\"transaction-id\": 53286, \"amount\": -864}, {\"transaction-id\": 53398, \"amount\": -967}, {\"transaction-id\": 54404, \"amount\": -682}, {\"transaction-id\": 54903, \"amount\": -885}, {\"transaction-id\": 56708, \"amount\": -1042}, {\"transaction-id\": 56717, \"amount\": -1043}, {\"transaction-id\": 59232, \"amount\": -1017}, {\"transaction-id\": 59608, \"amount\": -668}, {\"transaction-id\": 60183, \"amount\": -986}, {\"transaction-id\": 60864, \"amount\": -745}, {\"transaction-id\": 62237, \"amount\": -781}, {\"transaction-id\": 63975, \"amount\": -701}, {\"transaction-id\": 64208, \"amount\": -544}, {\"transaction-id\": 64919, \"amount\": -835}, {\"transaction-id\": 66197, \"amount\": -750}, {\"transaction-id\": 66923, \"amount\": -943}, {\"transaction-id\": 68374, \"amount\": -636}, {\"transaction-id\": 68589, \"amount\": -643}, {\"transaction-id\": 69016, \"amount\": -543}, {\"transaction-id\": 69813, \"amount\": -806}, {\"transaction-id\": 70664, \"amount\": -823}, {\"transaction-id\": 70924, \"amount\": -886}, {\"transaction-id\": 72816, \"amount\": -582}, {\"transaction-id\": 72964, \"amount\": -828}, {\"transaction-id\": 73992, \"amount\": -756}, {\"transaction-id\": 74476, \"amount\": -672}, {\"transaction-id\": 76080, \"amount\": -810}, {\"transaction-id\": 78223, \"amount\": -787}, {\"transaction-id\": 78409, \"amount\": -978}, {\"transaction-id\": 79001, \"amount\": -759}, {\"transaction-id\": 79923, \"amount\": -687}, {\"transaction-id\": 82399, \"amount\": -930}, {\"transaction-id\": 82506, \"amount\": -730}, {\"transaction-id\": 84181, \"amount\": -964}, {\"transaction-id\": 84188, \"amount\": -908}, {\"transaction-id\": 84390, \"amount\": -616}, {\"transaction-id\": 84753, \"amount\": -864}, {\"transaction-id\": 85430, \"amount\": -757}, {\"transaction-id\": 85808, \"amount\": -1015}, {\"transaction-id\": 85925, \"amount\": -650}, {\"transaction-id\": 86989, \"amount\": -816}, {\"transaction-id\": 87229, \"amount\": -1003}, {\"transaction-id\": 87745, \"amount\": -711}, {\"transaction-id\": 87942, \"amount\": -765}, {\"transaction-id\": 88137, \"amount\": -814}, {\"transaction-id\": 88741, \"amount\": -647}, {\"transaction-id\": 90240, \"amount\": -899}, {\"transaction-id\": 92205, \"amount\": -665}, {\"transaction-id\": 92544, \"amount\": -793}, {\"transaction-id\": 93094, \"amount\": -682}, {\"transaction-id\": 93281, \"amount\": -779}, {\"transaction-id\": 94795, \"amount\": -670}, {\"transaction-id\": 95311, \"amount\": -741}, {\"transaction-id\": 95658, \"amount\": -653}, {\"transaction-id\": 95879, \"amount\": -666}, {\"transaction-id\": 96589, \"amount\": -771}, {\"transaction-id\": 98481, \"amount\": -813}, {\"transaction-id\": 98594, \"amount\": -956}]}\\n',\n",
       " '{\"id\": 1, \"name\": \"Tim\", \"transactions\": [{\"transaction-id\": 572, \"amount\": 1017}, {\"transaction-id\": 1136, \"amount\": 940}, {\"transaction-id\": 1664, \"amount\": 1188}, {\"transaction-id\": 1948, \"amount\": 1065}, {\"transaction-id\": 2144, \"amount\": 1009}, {\"transaction-id\": 2633, \"amount\": 774}, {\"transaction-id\": 3335, \"amount\": 962}, {\"transaction-id\": 3527, \"amount\": 1046}, {\"transaction-id\": 3959, \"amount\": 963}, {\"transaction-id\": 4546, \"amount\": 1049}, {\"transaction-id\": 4677, \"amount\": 1083}, {\"transaction-id\": 4808, \"amount\": 1118}, {\"transaction-id\": 4930, \"amount\": 871}, {\"transaction-id\": 4954, \"amount\": 931}, {\"transaction-id\": 5044, \"amount\": 1084}, {\"transaction-id\": 5068, \"amount\": 876}, {\"transaction-id\": 5374, \"amount\": 1010}, {\"transaction-id\": 5473, \"amount\": 800}, {\"transaction-id\": 5538, \"amount\": 813}, {\"transaction-id\": 5601, \"amount\": 1123}, {\"transaction-id\": 5744, \"amount\": 1233}, {\"transaction-id\": 5779, \"amount\": 728}, {\"transaction-id\": 5934, \"amount\": 880}, {\"transaction-id\": 6365, \"amount\": 1009}, {\"transaction-id\": 6380, \"amount\": 837}, {\"transaction-id\": 6929, \"amount\": 847}, {\"transaction-id\": 7589, \"amount\": 902}, {\"transaction-id\": 7602, \"amount\": 944}, {\"transaction-id\": 7643, \"amount\": 990}, {\"transaction-id\": 7777, \"amount\": 873}, {\"transaction-id\": 7949, \"amount\": 801}, {\"transaction-id\": 8402, \"amount\": 766}, {\"transaction-id\": 8946, \"amount\": 987}, {\"transaction-id\": 9180, \"amount\": 949}, {\"transaction-id\": 9612, \"amount\": 1135}, {\"transaction-id\": 9663, \"amount\": 912}, {\"transaction-id\": 9865, \"amount\": 871}, {\"transaction-id\": 9920, \"amount\": 888}, {\"transaction-id\": 10494, \"amount\": 896}, {\"transaction-id\": 11081, \"amount\": 1111}, {\"transaction-id\": 11128, \"amount\": 1046}, {\"transaction-id\": 11209, \"amount\": 1171}, {\"transaction-id\": 11338, \"amount\": 900}, {\"transaction-id\": 11646, \"amount\": 770}, {\"transaction-id\": 11800, \"amount\": 904}, {\"transaction-id\": 12080, \"amount\": 1089}, {\"transaction-id\": 12646, \"amount\": 1017}, {\"transaction-id\": 12858, \"amount\": 984}, {\"transaction-id\": 13059, \"amount\": 1018}, {\"transaction-id\": 13655, \"amount\": 871}, {\"transaction-id\": 13887, \"amount\": 1227}, {\"transaction-id\": 13985, \"amount\": 946}, {\"transaction-id\": 14467, \"amount\": 987}, {\"transaction-id\": 14610, \"amount\": 873}, {\"transaction-id\": 14706, \"amount\": 1091}, {\"transaction-id\": 15411, \"amount\": 859}, {\"transaction-id\": 15691, \"amount\": 1065}, {\"transaction-id\": 15950, \"amount\": 963}, {\"transaction-id\": 16157, \"amount\": 1032}, {\"transaction-id\": 16195, \"amount\": 1066}, {\"transaction-id\": 17322, \"amount\": 866}, {\"transaction-id\": 18798, \"amount\": 970}, {\"transaction-id\": 19531, \"amount\": 952}, {\"transaction-id\": 19712, \"amount\": 948}, {\"transaction-id\": 20078, \"amount\": 946}, {\"transaction-id\": 20261, \"amount\": 773}, {\"transaction-id\": 20272, \"amount\": 1066}, {\"transaction-id\": 21509, \"amount\": 1101}, {\"transaction-id\": 21731, \"amount\": 963}, {\"transaction-id\": 21907, \"amount\": 991}, {\"transaction-id\": 22281, \"amount\": 844}, {\"transaction-id\": 22305, \"amount\": 1106}, {\"transaction-id\": 22411, \"amount\": 769}, {\"transaction-id\": 23113, \"amount\": 998}, {\"transaction-id\": 23604, \"amount\": 968}, {\"transaction-id\": 23684, \"amount\": 1100}, {\"transaction-id\": 23980, \"amount\": 1088}, {\"transaction-id\": 24446, \"amount\": 994}, {\"transaction-id\": 25009, \"amount\": 695}, {\"transaction-id\": 25518, \"amount\": 778}, {\"transaction-id\": 25545, \"amount\": 1061}, {\"transaction-id\": 25558, \"amount\": 1041}, {\"transaction-id\": 25757, \"amount\": 705}, {\"transaction-id\": 26548, \"amount\": 907}, {\"transaction-id\": 26629, \"amount\": 904}, {\"transaction-id\": 26743, \"amount\": 1025}, {\"transaction-id\": 26751, \"amount\": 910}, {\"transaction-id\": 27528, \"amount\": 1180}, {\"transaction-id\": 27895, \"amount\": 1020}, {\"transaction-id\": 27996, \"amount\": 959}, {\"transaction-id\": 28066, \"amount\": 1033}, {\"transaction-id\": 29161, \"amount\": 953}, {\"transaction-id\": 29549, \"amount\": 829}, {\"transaction-id\": 29647, \"amount\": 1049}, {\"transaction-id\": 29784, \"amount\": 1075}, {\"transaction-id\": 30278, \"amount\": 704}, {\"transaction-id\": 30504, \"amount\": 1160}, {\"transaction-id\": 30529, \"amount\": 847}, {\"transaction-id\": 30914, \"amount\": 765}, {\"transaction-id\": 31011, \"amount\": 1052}, {\"transaction-id\": 31732, \"amount\": 1212}, {\"transaction-id\": 31941, \"amount\": 1107}, {\"transaction-id\": 32197, \"amount\": 728}, {\"transaction-id\": 32833, \"amount\": 904}, {\"transaction-id\": 33034, \"amount\": 1181}, {\"transaction-id\": 33223, \"amount\": 942}, {\"transaction-id\": 33347, \"amount\": 1021}, {\"transaction-id\": 33990, \"amount\": 1026}, {\"transaction-id\": 34812, \"amount\": 880}, {\"transaction-id\": 35188, \"amount\": 856}, {\"transaction-id\": 35704, \"amount\": 1058}, {\"transaction-id\": 35825, \"amount\": 1005}, {\"transaction-id\": 37551, \"amount\": 1195}, {\"transaction-id\": 37562, \"amount\": 743}, {\"transaction-id\": 38474, \"amount\": 962}, {\"transaction-id\": 38948, \"amount\": 1132}, {\"transaction-id\": 39669, \"amount\": 1041}, {\"transaction-id\": 39795, \"amount\": 1110}, {\"transaction-id\": 40054, \"amount\": 639}, {\"transaction-id\": 40103, \"amount\": 838}, {\"transaction-id\": 40543, \"amount\": 1097}, {\"transaction-id\": 40909, \"amount\": 1068}, {\"transaction-id\": 40956, \"amount\": 832}, {\"transaction-id\": 40997, \"amount\": 1033}, {\"transaction-id\": 41946, \"amount\": 808}, {\"transaction-id\": 42243, \"amount\": 1038}, {\"transaction-id\": 42384, \"amount\": 781}, {\"transaction-id\": 42401, \"amount\": 934}, {\"transaction-id\": 42716, \"amount\": 1254}, {\"transaction-id\": 42817, \"amount\": 968}, {\"transaction-id\": 43128, \"amount\": 890}, {\"transaction-id\": 43212, \"amount\": 992}, {\"transaction-id\": 43965, \"amount\": 963}, {\"transaction-id\": 44732, \"amount\": 877}, {\"transaction-id\": 44900, \"amount\": 841}, {\"transaction-id\": 45242, \"amount\": 937}, {\"transaction-id\": 45305, \"amount\": 809}, {\"transaction-id\": 45345, \"amount\": 930}, {\"transaction-id\": 46846, \"amount\": 1065}, {\"transaction-id\": 47247, \"amount\": 1028}, {\"transaction-id\": 48755, \"amount\": 939}, {\"transaction-id\": 49187, \"amount\": 828}, {\"transaction-id\": 49422, \"amount\": 892}, {\"transaction-id\": 50094, \"amount\": 1178}, {\"transaction-id\": 50172, \"amount\": 1095}, {\"transaction-id\": 50973, \"amount\": 1090}, {\"transaction-id\": 51525, \"amount\": 1087}, {\"transaction-id\": 51589, \"amount\": 897}, {\"transaction-id\": 51881, \"amount\": 1194}, {\"transaction-id\": 52363, \"amount\": 1034}, {\"transaction-id\": 52893, \"amount\": 1204}, {\"transaction-id\": 53432, \"amount\": 882}, {\"transaction-id\": 53493, \"amount\": 991}, {\"transaction-id\": 53579, \"amount\": 1069}, {\"transaction-id\": 53726, \"amount\": 996}, {\"transaction-id\": 53976, \"amount\": 1209}, {\"transaction-id\": 54165, \"amount\": 978}, {\"transaction-id\": 54181, \"amount\": 725}, {\"transaction-id\": 54363, \"amount\": 1127}, {\"transaction-id\": 54554, \"amount\": 1111}, {\"transaction-id\": 54671, \"amount\": 1054}, {\"transaction-id\": 54721, \"amount\": 853}, {\"transaction-id\": 55233, \"amount\": 983}, {\"transaction-id\": 55251, \"amount\": 879}, {\"transaction-id\": 55799, \"amount\": 993}, {\"transaction-id\": 56422, \"amount\": 707}, {\"transaction-id\": 57421, \"amount\": 777}, {\"transaction-id\": 57933, \"amount\": 1024}, {\"transaction-id\": 58625, \"amount\": 1035}, {\"transaction-id\": 58883, \"amount\": 964}, {\"transaction-id\": 60518, \"amount\": 1153}, {\"transaction-id\": 61271, \"amount\": 858}, {\"transaction-id\": 61774, \"amount\": 899}, {\"transaction-id\": 62073, \"amount\": 868}, {\"transaction-id\": 62465, \"amount\": 969}, {\"transaction-id\": 62659, \"amount\": 941}, {\"transaction-id\": 62742, \"amount\": 836}, {\"transaction-id\": 62830, \"amount\": 745}, {\"transaction-id\": 63010, \"amount\": 1060}, {\"transaction-id\": 63426, \"amount\": 1033}, {\"transaction-id\": 63817, \"amount\": 999}, {\"transaction-id\": 63983, \"amount\": 908}, {\"transaction-id\": 64080, \"amount\": 957}, {\"transaction-id\": 64423, \"amount\": 1264}, {\"transaction-id\": 64539, \"amount\": 1035}, {\"transaction-id\": 64659, \"amount\": 851}, {\"transaction-id\": 64933, \"amount\": 924}, {\"transaction-id\": 64988, \"amount\": 1027}, {\"transaction-id\": 65131, \"amount\": 952}, {\"transaction-id\": 65160, \"amount\": 953}, {\"transaction-id\": 65678, \"amount\": 1051}, {\"transaction-id\": 65708, \"amount\": 882}, {\"transaction-id\": 66107, \"amount\": 1078}, {\"transaction-id\": 66877, \"amount\": 1127}, {\"transaction-id\": 67137, \"amount\": 798}, {\"transaction-id\": 67218, \"amount\": 1298}, {\"transaction-id\": 67597, \"amount\": 886}, {\"transaction-id\": 67624, \"amount\": 1151}, {\"transaction-id\": 67663, \"amount\": 919}, {\"transaction-id\": 67889, \"amount\": 869}, {\"transaction-id\": 68204, \"amount\": 1136}, {\"transaction-id\": 68275, \"amount\": 1065}, {\"transaction-id\": 68581, \"amount\": 978}, {\"transaction-id\": 69234, \"amount\": 1121}, {\"transaction-id\": 69291, \"amount\": 819}, {\"transaction-id\": 69929, \"amount\": 1131}, {\"transaction-id\": 70357, \"amount\": 987}, {\"transaction-id\": 70456, \"amount\": 1012}, {\"transaction-id\": 71195, \"amount\": 1193}, {\"transaction-id\": 71233, \"amount\": 974}, {\"transaction-id\": 71741, \"amount\": 1175}, {\"transaction-id\": 72025, \"amount\": 1052}, {\"transaction-id\": 73182, \"amount\": 997}, {\"transaction-id\": 73410, \"amount\": 879}, {\"transaction-id\": 74125, \"amount\": 1033}, {\"transaction-id\": 74160, \"amount\": 1047}, {\"transaction-id\": 74333, \"amount\": 946}, {\"transaction-id\": 74401, \"amount\": 913}, {\"transaction-id\": 76119, \"amount\": 1060}, {\"transaction-id\": 76343, \"amount\": 833}, {\"transaction-id\": 76425, \"amount\": 1020}, {\"transaction-id\": 76843, \"amount\": 1058}, {\"transaction-id\": 77035, \"amount\": 1106}, {\"transaction-id\": 77432, \"amount\": 1052}, {\"transaction-id\": 77712, \"amount\": 999}, {\"transaction-id\": 77876, \"amount\": 1143}, {\"transaction-id\": 78632, \"amount\": 975}, {\"transaction-id\": 78926, \"amount\": 832}, {\"transaction-id\": 78980, \"amount\": 791}, {\"transaction-id\": 79267, \"amount\": 1003}, {\"transaction-id\": 79756, \"amount\": 815}, {\"transaction-id\": 80698, \"amount\": 1112}, {\"transaction-id\": 80876, \"amount\": 733}, {\"transaction-id\": 81282, \"amount\": 1072}, {\"transaction-id\": 81343, \"amount\": 832}, {\"transaction-id\": 81385, \"amount\": 1006}, {\"transaction-id\": 81659, \"amount\": 801}, {\"transaction-id\": 81954, \"amount\": 967}, {\"transaction-id\": 82174, \"amount\": 965}, {\"transaction-id\": 83070, \"amount\": 1054}, {\"transaction-id\": 83208, \"amount\": 780}, {\"transaction-id\": 84454, \"amount\": 895}, {\"transaction-id\": 84631, \"amount\": 1126}, {\"transaction-id\": 84747, \"amount\": 827}, {\"transaction-id\": 85142, \"amount\": 1291}, {\"transaction-id\": 85458, \"amount\": 993}, {\"transaction-id\": 85996, \"amount\": 1178}, {\"transaction-id\": 87077, \"amount\": 925}, {\"transaction-id\": 87139, \"amount\": 816}, {\"transaction-id\": 87511, \"amount\": 852}, {\"transaction-id\": 87639, \"amount\": 1022}, {\"transaction-id\": 87899, \"amount\": 809}, {\"transaction-id\": 88598, \"amount\": 906}, {\"transaction-id\": 88649, \"amount\": 902}, {\"transaction-id\": 88907, \"amount\": 1033}, {\"transaction-id\": 89405, \"amount\": 1019}, {\"transaction-id\": 89605, \"amount\": 1033}, {\"transaction-id\": 89660, \"amount\": 1067}, {\"transaction-id\": 90437, \"amount\": 1267}, {\"transaction-id\": 90905, \"amount\": 881}, {\"transaction-id\": 92047, \"amount\": 864}, {\"transaction-id\": 92292, \"amount\": 929}, {\"transaction-id\": 92634, \"amount\": 865}, {\"transaction-id\": 93338, \"amount\": 866}, {\"transaction-id\": 93508, \"amount\": 1116}, {\"transaction-id\": 94024, \"amount\": 933}, {\"transaction-id\": 94047, \"amount\": 704}, {\"transaction-id\": 94057, \"amount\": 811}, {\"transaction-id\": 94958, \"amount\": 938}, {\"transaction-id\": 94986, \"amount\": 840}, {\"transaction-id\": 95164, \"amount\": 1193}, {\"transaction-id\": 95581, \"amount\": 1102}, {\"transaction-id\": 95824, \"amount\": 770}, {\"transaction-id\": 96060, \"amount\": 1083}, {\"transaction-id\": 96294, \"amount\": 863}, {\"transaction-id\": 97020, \"amount\": 968}, {\"transaction-id\": 97086, \"amount\": 1241}, {\"transaction-id\": 98037, \"amount\": 1119}, {\"transaction-id\": 98379, \"amount\": 847}, {\"transaction-id\": 99026, \"amount\": 1004}, {\"transaction-id\": 99285, \"amount\": 1043}, {\"transaction-id\": 99405, \"amount\": 811}, {\"transaction-id\": 99535, \"amount\": 1043}]}\\n',\n",
       " '{\"id\": 2, \"name\": \"Tim\", \"transactions\": [{\"transaction-id\": 792, \"amount\": 871}, {\"transaction-id\": 833, \"amount\": 519}, {\"transaction-id\": 1309, \"amount\": 533}, {\"transaction-id\": 1657, \"amount\": 825}, {\"transaction-id\": 2675, \"amount\": 829}, {\"transaction-id\": 2925, \"amount\": 740}, {\"transaction-id\": 4233, \"amount\": 878}, {\"transaction-id\": 5342, \"amount\": 776}, {\"transaction-id\": 6445, \"amount\": 749}, {\"transaction-id\": 6803, \"amount\": 755}, {\"transaction-id\": 7100, \"amount\": 653}, {\"transaction-id\": 8796, \"amount\": 476}, {\"transaction-id\": 9040, \"amount\": 538}, {\"transaction-id\": 9687, \"amount\": 675}, {\"transaction-id\": 10695, \"amount\": 722}, {\"transaction-id\": 11131, \"amount\": 1014}, {\"transaction-id\": 11314, \"amount\": 821}, {\"transaction-id\": 11598, \"amount\": 687}, {\"transaction-id\": 12095, \"amount\": 731}, {\"transaction-id\": 12313, \"amount\": 861}, {\"transaction-id\": 13894, \"amount\": 625}, {\"transaction-id\": 13982, \"amount\": 1005}, {\"transaction-id\": 15057, \"amount\": 636}, {\"transaction-id\": 15222, \"amount\": 904}, {\"transaction-id\": 15431, \"amount\": 719}, {\"transaction-id\": 17656, \"amount\": 581}, {\"transaction-id\": 17850, \"amount\": 434}, {\"transaction-id\": 18428, \"amount\": 668}, {\"transaction-id\": 18834, \"amount\": 732}, {\"transaction-id\": 18863, \"amount\": 514}, {\"transaction-id\": 19266, \"amount\": 671}, {\"transaction-id\": 19488, \"amount\": 709}, {\"transaction-id\": 20206, \"amount\": 925}, {\"transaction-id\": 20311, \"amount\": 813}, {\"transaction-id\": 21986, \"amount\": 901}, {\"transaction-id\": 22227, \"amount\": 719}, {\"transaction-id\": 22302, \"amount\": 679}, {\"transaction-id\": 22488, \"amount\": 688}, {\"transaction-id\": 22516, \"amount\": 728}, {\"transaction-id\": 22693, \"amount\": 801}, {\"transaction-id\": 22843, \"amount\": 731}, {\"transaction-id\": 23707, \"amount\": 595}, {\"transaction-id\": 23774, \"amount\": 316}, {\"transaction-id\": 23828, \"amount\": 522}, {\"transaction-id\": 24601, \"amount\": 701}, {\"transaction-id\": 25485, \"amount\": 672}, {\"transaction-id\": 27298, \"amount\": 805}, {\"transaction-id\": 28303, \"amount\": 1137}, {\"transaction-id\": 28954, \"amount\": 616}, {\"transaction-id\": 30860, \"amount\": 803}, {\"transaction-id\": 32028, \"amount\": 552}, {\"transaction-id\": 32752, \"amount\": 863}, {\"transaction-id\": 34149, \"amount\": 672}, {\"transaction-id\": 34300, \"amount\": 378}, {\"transaction-id\": 34381, \"amount\": 614}, {\"transaction-id\": 35961, \"amount\": 971}, {\"transaction-id\": 36591, \"amount\": 790}, {\"transaction-id\": 38124, \"amount\": 427}, {\"transaction-id\": 38622, \"amount\": 1091}, {\"transaction-id\": 39108, \"amount\": 829}, {\"transaction-id\": 39879, \"amount\": 778}, {\"transaction-id\": 40904, \"amount\": 661}, {\"transaction-id\": 41812, \"amount\": 639}, {\"transaction-id\": 42360, \"amount\": 620}, {\"transaction-id\": 42433, \"amount\": 597}, {\"transaction-id\": 42890, \"amount\": 1028}, {\"transaction-id\": 43030, \"amount\": 697}, {\"transaction-id\": 43069, \"amount\": 557}, {\"transaction-id\": 43193, \"amount\": 604}, {\"transaction-id\": 43582, \"amount\": 873}, {\"transaction-id\": 44227, \"amount\": 735}, {\"transaction-id\": 46742, \"amount\": 765}, {\"transaction-id\": 47526, \"amount\": 874}, {\"transaction-id\": 50201, \"amount\": 951}, {\"transaction-id\": 50355, \"amount\": 725}, {\"transaction-id\": 50899, \"amount\": 833}, {\"transaction-id\": 51839, \"amount\": 780}, {\"transaction-id\": 53264, \"amount\": 857}, {\"transaction-id\": 53922, \"amount\": 687}, {\"transaction-id\": 55855, \"amount\": 569}, {\"transaction-id\": 56152, \"amount\": 942}, {\"transaction-id\": 58038, \"amount\": 947}, {\"transaction-id\": 59064, \"amount\": 537}, {\"transaction-id\": 59871, \"amount\": 637}, {\"transaction-id\": 60669, \"amount\": 951}, {\"transaction-id\": 61257, \"amount\": 693}, {\"transaction-id\": 61298, \"amount\": 734}, {\"transaction-id\": 61683, \"amount\": 786}, {\"transaction-id\": 62824, \"amount\": 859}, {\"transaction-id\": 66358, \"amount\": 427}, {\"transaction-id\": 66927, \"amount\": 597}, {\"transaction-id\": 68315, \"amount\": 771}, {\"transaction-id\": 69653, \"amount\": 752}, {\"transaction-id\": 70027, \"amount\": 679}, {\"transaction-id\": 70057, \"amount\": 642}, {\"transaction-id\": 71624, \"amount\": 666}, {\"transaction-id\": 72425, \"amount\": 598}, {\"transaction-id\": 74681, \"amount\": 526}, {\"transaction-id\": 74801, \"amount\": 779}, {\"transaction-id\": 75469, \"amount\": 588}, {\"transaction-id\": 77777, \"amount\": 908}, {\"transaction-id\": 78862, \"amount\": 804}, {\"transaction-id\": 79683, \"amount\": 818}, {\"transaction-id\": 80764, \"amount\": 641}, {\"transaction-id\": 82277, \"amount\": 487}, {\"transaction-id\": 82297, \"amount\": 645}, {\"transaction-id\": 82618, \"amount\": 540}, {\"transaction-id\": 82767, \"amount\": 421}, {\"transaction-id\": 83046, \"amount\": 533}, {\"transaction-id\": 83054, \"amount\": 832}, {\"transaction-id\": 83162, \"amount\": 873}, {\"transaction-id\": 83811, \"amount\": 603}, {\"transaction-id\": 84892, \"amount\": 636}, {\"transaction-id\": 86220, \"amount\": 748}, {\"transaction-id\": 87479, \"amount\": 699}, {\"transaction-id\": 87553, \"amount\": 629}, {\"transaction-id\": 90767, \"amount\": 714}, {\"transaction-id\": 91099, \"amount\": 620}, {\"transaction-id\": 93291, \"amount\": 569}, {\"transaction-id\": 94496, \"amount\": 541}, {\"transaction-id\": 95784, \"amount\": 678}, {\"transaction-id\": 98378, \"amount\": 311}, {\"transaction-id\": 99367, \"amount\": 1041}, {\"transaction-id\": 99527, \"amount\": 904}, {\"transaction-id\": 99645, \"amount\": 575}, {\"transaction-id\": 99907, \"amount\": 737}]}\\n')"
      ]
     },
     "execution_count": 12,
     "metadata": {},
     "output_type": "execute_result"
    }
   ],
   "source": [
    "filename = os.path.join('data', 'accounts.*.json.gz')\n",
    "lines = db.read_text(filename)\n",
    "lines.take(3)"
   ]
  },
  {
   "cell_type": "markdown",
   "metadata": {},
   "source": [
    "我们的数据以文本行的形式从文件中发出。 请注意，文件解压缩是自动发生的。 通过将json.loads函数映射到我们的包中，我们可以使这些数据看起来更合理。"
   ]
  },
  {
   "cell_type": "code",
   "execution_count": 13,
   "metadata": {},
   "outputs": [
    {
     "data": {
      "text/plain": [
       "({'id': 0,\n",
       "  'name': 'Jerry',\n",
       "  'transactions': [{'transaction-id': 576, 'amount': -679},\n",
       "   {'transaction-id': 854, 'amount': -841},\n",
       "   {'transaction-id': 1193, 'amount': -809},\n",
       "   {'transaction-id': 1506, 'amount': -801},\n",
       "   {'transaction-id': 1572, 'amount': -1008},\n",
       "   {'transaction-id': 2081, 'amount': -923},\n",
       "   {'transaction-id': 3496, 'amount': -750},\n",
       "   {'transaction-id': 4068, 'amount': -793},\n",
       "   {'transaction-id': 4335, 'amount': -849},\n",
       "   {'transaction-id': 4519, 'amount': -819},\n",
       "   {'transaction-id': 4768, 'amount': -682},\n",
       "   {'transaction-id': 5055, 'amount': -548},\n",
       "   {'transaction-id': 5157, 'amount': -607},\n",
       "   {'transaction-id': 5797, 'amount': -896},\n",
       "   {'transaction-id': 6144, 'amount': -901},\n",
       "   {'transaction-id': 6830, 'amount': -930},\n",
       "   {'transaction-id': 8151, 'amount': -924},\n",
       "   {'transaction-id': 9486, 'amount': -778},\n",
       "   {'transaction-id': 10559, 'amount': -1071},\n",
       "   {'transaction-id': 11374, 'amount': -648},\n",
       "   {'transaction-id': 11770, 'amount': -876},\n",
       "   {'transaction-id': 13495, 'amount': -859},\n",
       "   {'transaction-id': 13871, 'amount': -741},\n",
       "   {'transaction-id': 13899, 'amount': -698},\n",
       "   {'transaction-id': 14194, 'amount': -673},\n",
       "   {'transaction-id': 14291, 'amount': -741},\n",
       "   {'transaction-id': 14757, 'amount': -780},\n",
       "   {'transaction-id': 15029, 'amount': -644},\n",
       "   {'transaction-id': 15908, 'amount': -831},\n",
       "   {'transaction-id': 23265, 'amount': -644},\n",
       "   {'transaction-id': 23664, 'amount': -718},\n",
       "   {'transaction-id': 23951, 'amount': -798},\n",
       "   {'transaction-id': 24999, 'amount': -874},\n",
       "   {'transaction-id': 25783, 'amount': -829},\n",
       "   {'transaction-id': 25989, 'amount': -583},\n",
       "   {'transaction-id': 26068, 'amount': -637},\n",
       "   {'transaction-id': 26252, 'amount': -854},\n",
       "   {'transaction-id': 27042, 'amount': -780},\n",
       "   {'transaction-id': 30109, 'amount': -894},\n",
       "   {'transaction-id': 30868, 'amount': -585},\n",
       "   {'transaction-id': 30961, 'amount': -814},\n",
       "   {'transaction-id': 32608, 'amount': -682},\n",
       "   {'transaction-id': 35488, 'amount': -633},\n",
       "   {'transaction-id': 35970, 'amount': -1118},\n",
       "   {'transaction-id': 36198, 'amount': -671},\n",
       "   {'transaction-id': 36357, 'amount': -763},\n",
       "   {'transaction-id': 37121, 'amount': -605},\n",
       "   {'transaction-id': 37267, 'amount': -752},\n",
       "   {'transaction-id': 39787, 'amount': -776},\n",
       "   {'transaction-id': 41846, 'amount': -728},\n",
       "   {'transaction-id': 41891, 'amount': -714},\n",
       "   {'transaction-id': 41931, 'amount': -1149},\n",
       "   {'transaction-id': 42913, 'amount': -949},\n",
       "   {'transaction-id': 44477, 'amount': -649},\n",
       "   {'transaction-id': 45371, 'amount': -599},\n",
       "   {'transaction-id': 45494, 'amount': -524},\n",
       "   {'transaction-id': 46921, 'amount': -752},\n",
       "   {'transaction-id': 47857, 'amount': -802},\n",
       "   {'transaction-id': 48092, 'amount': -916},\n",
       "   {'transaction-id': 48110, 'amount': -965},\n",
       "   {'transaction-id': 49413, 'amount': -893},\n",
       "   {'transaction-id': 49896, 'amount': -659},\n",
       "   {'transaction-id': 50885, 'amount': -725},\n",
       "   {'transaction-id': 52015, 'amount': -731},\n",
       "   {'transaction-id': 52424, 'amount': -912},\n",
       "   {'transaction-id': 52982, 'amount': -706},\n",
       "   {'transaction-id': 53286, 'amount': -864},\n",
       "   {'transaction-id': 53398, 'amount': -967},\n",
       "   {'transaction-id': 54404, 'amount': -682},\n",
       "   {'transaction-id': 54903, 'amount': -885},\n",
       "   {'transaction-id': 56708, 'amount': -1042},\n",
       "   {'transaction-id': 56717, 'amount': -1043},\n",
       "   {'transaction-id': 59232, 'amount': -1017},\n",
       "   {'transaction-id': 59608, 'amount': -668},\n",
       "   {'transaction-id': 60183, 'amount': -986},\n",
       "   {'transaction-id': 60864, 'amount': -745},\n",
       "   {'transaction-id': 62237, 'amount': -781},\n",
       "   {'transaction-id': 63975, 'amount': -701},\n",
       "   {'transaction-id': 64208, 'amount': -544},\n",
       "   {'transaction-id': 64919, 'amount': -835},\n",
       "   {'transaction-id': 66197, 'amount': -750},\n",
       "   {'transaction-id': 66923, 'amount': -943},\n",
       "   {'transaction-id': 68374, 'amount': -636},\n",
       "   {'transaction-id': 68589, 'amount': -643},\n",
       "   {'transaction-id': 69016, 'amount': -543},\n",
       "   {'transaction-id': 69813, 'amount': -806},\n",
       "   {'transaction-id': 70664, 'amount': -823},\n",
       "   {'transaction-id': 70924, 'amount': -886},\n",
       "   {'transaction-id': 72816, 'amount': -582},\n",
       "   {'transaction-id': 72964, 'amount': -828},\n",
       "   {'transaction-id': 73992, 'amount': -756},\n",
       "   {'transaction-id': 74476, 'amount': -672},\n",
       "   {'transaction-id': 76080, 'amount': -810},\n",
       "   {'transaction-id': 78223, 'amount': -787},\n",
       "   {'transaction-id': 78409, 'amount': -978},\n",
       "   {'transaction-id': 79001, 'amount': -759},\n",
       "   {'transaction-id': 79923, 'amount': -687},\n",
       "   {'transaction-id': 82399, 'amount': -930},\n",
       "   {'transaction-id': 82506, 'amount': -730},\n",
       "   {'transaction-id': 84181, 'amount': -964},\n",
       "   {'transaction-id': 84188, 'amount': -908},\n",
       "   {'transaction-id': 84390, 'amount': -616},\n",
       "   {'transaction-id': 84753, 'amount': -864},\n",
       "   {'transaction-id': 85430, 'amount': -757},\n",
       "   {'transaction-id': 85808, 'amount': -1015},\n",
       "   {'transaction-id': 85925, 'amount': -650},\n",
       "   {'transaction-id': 86989, 'amount': -816},\n",
       "   {'transaction-id': 87229, 'amount': -1003},\n",
       "   {'transaction-id': 87745, 'amount': -711},\n",
       "   {'transaction-id': 87942, 'amount': -765},\n",
       "   {'transaction-id': 88137, 'amount': -814},\n",
       "   {'transaction-id': 88741, 'amount': -647},\n",
       "   {'transaction-id': 90240, 'amount': -899},\n",
       "   {'transaction-id': 92205, 'amount': -665},\n",
       "   {'transaction-id': 92544, 'amount': -793},\n",
       "   {'transaction-id': 93094, 'amount': -682},\n",
       "   {'transaction-id': 93281, 'amount': -779},\n",
       "   {'transaction-id': 94795, 'amount': -670},\n",
       "   {'transaction-id': 95311, 'amount': -741},\n",
       "   {'transaction-id': 95658, 'amount': -653},\n",
       "   {'transaction-id': 95879, 'amount': -666},\n",
       "   {'transaction-id': 96589, 'amount': -771},\n",
       "   {'transaction-id': 98481, 'amount': -813},\n",
       "   {'transaction-id': 98594, 'amount': -956}]},\n",
       " {'id': 1,\n",
       "  'name': 'Tim',\n",
       "  'transactions': [{'transaction-id': 572, 'amount': 1017},\n",
       "   {'transaction-id': 1136, 'amount': 940},\n",
       "   {'transaction-id': 1664, 'amount': 1188},\n",
       "   {'transaction-id': 1948, 'amount': 1065},\n",
       "   {'transaction-id': 2144, 'amount': 1009},\n",
       "   {'transaction-id': 2633, 'amount': 774},\n",
       "   {'transaction-id': 3335, 'amount': 962},\n",
       "   {'transaction-id': 3527, 'amount': 1046},\n",
       "   {'transaction-id': 3959, 'amount': 963},\n",
       "   {'transaction-id': 4546, 'amount': 1049},\n",
       "   {'transaction-id': 4677, 'amount': 1083},\n",
       "   {'transaction-id': 4808, 'amount': 1118},\n",
       "   {'transaction-id': 4930, 'amount': 871},\n",
       "   {'transaction-id': 4954, 'amount': 931},\n",
       "   {'transaction-id': 5044, 'amount': 1084},\n",
       "   {'transaction-id': 5068, 'amount': 876},\n",
       "   {'transaction-id': 5374, 'amount': 1010},\n",
       "   {'transaction-id': 5473, 'amount': 800},\n",
       "   {'transaction-id': 5538, 'amount': 813},\n",
       "   {'transaction-id': 5601, 'amount': 1123},\n",
       "   {'transaction-id': 5744, 'amount': 1233},\n",
       "   {'transaction-id': 5779, 'amount': 728},\n",
       "   {'transaction-id': 5934, 'amount': 880},\n",
       "   {'transaction-id': 6365, 'amount': 1009},\n",
       "   {'transaction-id': 6380, 'amount': 837},\n",
       "   {'transaction-id': 6929, 'amount': 847},\n",
       "   {'transaction-id': 7589, 'amount': 902},\n",
       "   {'transaction-id': 7602, 'amount': 944},\n",
       "   {'transaction-id': 7643, 'amount': 990},\n",
       "   {'transaction-id': 7777, 'amount': 873},\n",
       "   {'transaction-id': 7949, 'amount': 801},\n",
       "   {'transaction-id': 8402, 'amount': 766},\n",
       "   {'transaction-id': 8946, 'amount': 987},\n",
       "   {'transaction-id': 9180, 'amount': 949},\n",
       "   {'transaction-id': 9612, 'amount': 1135},\n",
       "   {'transaction-id': 9663, 'amount': 912},\n",
       "   {'transaction-id': 9865, 'amount': 871},\n",
       "   {'transaction-id': 9920, 'amount': 888},\n",
       "   {'transaction-id': 10494, 'amount': 896},\n",
       "   {'transaction-id': 11081, 'amount': 1111},\n",
       "   {'transaction-id': 11128, 'amount': 1046},\n",
       "   {'transaction-id': 11209, 'amount': 1171},\n",
       "   {'transaction-id': 11338, 'amount': 900},\n",
       "   {'transaction-id': 11646, 'amount': 770},\n",
       "   {'transaction-id': 11800, 'amount': 904},\n",
       "   {'transaction-id': 12080, 'amount': 1089},\n",
       "   {'transaction-id': 12646, 'amount': 1017},\n",
       "   {'transaction-id': 12858, 'amount': 984},\n",
       "   {'transaction-id': 13059, 'amount': 1018},\n",
       "   {'transaction-id': 13655, 'amount': 871},\n",
       "   {'transaction-id': 13887, 'amount': 1227},\n",
       "   {'transaction-id': 13985, 'amount': 946},\n",
       "   {'transaction-id': 14467, 'amount': 987},\n",
       "   {'transaction-id': 14610, 'amount': 873},\n",
       "   {'transaction-id': 14706, 'amount': 1091},\n",
       "   {'transaction-id': 15411, 'amount': 859},\n",
       "   {'transaction-id': 15691, 'amount': 1065},\n",
       "   {'transaction-id': 15950, 'amount': 963},\n",
       "   {'transaction-id': 16157, 'amount': 1032},\n",
       "   {'transaction-id': 16195, 'amount': 1066},\n",
       "   {'transaction-id': 17322, 'amount': 866},\n",
       "   {'transaction-id': 18798, 'amount': 970},\n",
       "   {'transaction-id': 19531, 'amount': 952},\n",
       "   {'transaction-id': 19712, 'amount': 948},\n",
       "   {'transaction-id': 20078, 'amount': 946},\n",
       "   {'transaction-id': 20261, 'amount': 773},\n",
       "   {'transaction-id': 20272, 'amount': 1066},\n",
       "   {'transaction-id': 21509, 'amount': 1101},\n",
       "   {'transaction-id': 21731, 'amount': 963},\n",
       "   {'transaction-id': 21907, 'amount': 991},\n",
       "   {'transaction-id': 22281, 'amount': 844},\n",
       "   {'transaction-id': 22305, 'amount': 1106},\n",
       "   {'transaction-id': 22411, 'amount': 769},\n",
       "   {'transaction-id': 23113, 'amount': 998},\n",
       "   {'transaction-id': 23604, 'amount': 968},\n",
       "   {'transaction-id': 23684, 'amount': 1100},\n",
       "   {'transaction-id': 23980, 'amount': 1088},\n",
       "   {'transaction-id': 24446, 'amount': 994},\n",
       "   {'transaction-id': 25009, 'amount': 695},\n",
       "   {'transaction-id': 25518, 'amount': 778},\n",
       "   {'transaction-id': 25545, 'amount': 1061},\n",
       "   {'transaction-id': 25558, 'amount': 1041},\n",
       "   {'transaction-id': 25757, 'amount': 705},\n",
       "   {'transaction-id': 26548, 'amount': 907},\n",
       "   {'transaction-id': 26629, 'amount': 904},\n",
       "   {'transaction-id': 26743, 'amount': 1025},\n",
       "   {'transaction-id': 26751, 'amount': 910},\n",
       "   {'transaction-id': 27528, 'amount': 1180},\n",
       "   {'transaction-id': 27895, 'amount': 1020},\n",
       "   {'transaction-id': 27996, 'amount': 959},\n",
       "   {'transaction-id': 28066, 'amount': 1033},\n",
       "   {'transaction-id': 29161, 'amount': 953},\n",
       "   {'transaction-id': 29549, 'amount': 829},\n",
       "   {'transaction-id': 29647, 'amount': 1049},\n",
       "   {'transaction-id': 29784, 'amount': 1075},\n",
       "   {'transaction-id': 30278, 'amount': 704},\n",
       "   {'transaction-id': 30504, 'amount': 1160},\n",
       "   {'transaction-id': 30529, 'amount': 847},\n",
       "   {'transaction-id': 30914, 'amount': 765},\n",
       "   {'transaction-id': 31011, 'amount': 1052},\n",
       "   {'transaction-id': 31732, 'amount': 1212},\n",
       "   {'transaction-id': 31941, 'amount': 1107},\n",
       "   {'transaction-id': 32197, 'amount': 728},\n",
       "   {'transaction-id': 32833, 'amount': 904},\n",
       "   {'transaction-id': 33034, 'amount': 1181},\n",
       "   {'transaction-id': 33223, 'amount': 942},\n",
       "   {'transaction-id': 33347, 'amount': 1021},\n",
       "   {'transaction-id': 33990, 'amount': 1026},\n",
       "   {'transaction-id': 34812, 'amount': 880},\n",
       "   {'transaction-id': 35188, 'amount': 856},\n",
       "   {'transaction-id': 35704, 'amount': 1058},\n",
       "   {'transaction-id': 35825, 'amount': 1005},\n",
       "   {'transaction-id': 37551, 'amount': 1195},\n",
       "   {'transaction-id': 37562, 'amount': 743},\n",
       "   {'transaction-id': 38474, 'amount': 962},\n",
       "   {'transaction-id': 38948, 'amount': 1132},\n",
       "   {'transaction-id': 39669, 'amount': 1041},\n",
       "   {'transaction-id': 39795, 'amount': 1110},\n",
       "   {'transaction-id': 40054, 'amount': 639},\n",
       "   {'transaction-id': 40103, 'amount': 838},\n",
       "   {'transaction-id': 40543, 'amount': 1097},\n",
       "   {'transaction-id': 40909, 'amount': 1068},\n",
       "   {'transaction-id': 40956, 'amount': 832},\n",
       "   {'transaction-id': 40997, 'amount': 1033},\n",
       "   {'transaction-id': 41946, 'amount': 808},\n",
       "   {'transaction-id': 42243, 'amount': 1038},\n",
       "   {'transaction-id': 42384, 'amount': 781},\n",
       "   {'transaction-id': 42401, 'amount': 934},\n",
       "   {'transaction-id': 42716, 'amount': 1254},\n",
       "   {'transaction-id': 42817, 'amount': 968},\n",
       "   {'transaction-id': 43128, 'amount': 890},\n",
       "   {'transaction-id': 43212, 'amount': 992},\n",
       "   {'transaction-id': 43965, 'amount': 963},\n",
       "   {'transaction-id': 44732, 'amount': 877},\n",
       "   {'transaction-id': 44900, 'amount': 841},\n",
       "   {'transaction-id': 45242, 'amount': 937},\n",
       "   {'transaction-id': 45305, 'amount': 809},\n",
       "   {'transaction-id': 45345, 'amount': 930},\n",
       "   {'transaction-id': 46846, 'amount': 1065},\n",
       "   {'transaction-id': 47247, 'amount': 1028},\n",
       "   {'transaction-id': 48755, 'amount': 939},\n",
       "   {'transaction-id': 49187, 'amount': 828},\n",
       "   {'transaction-id': 49422, 'amount': 892},\n",
       "   {'transaction-id': 50094, 'amount': 1178},\n",
       "   {'transaction-id': 50172, 'amount': 1095},\n",
       "   {'transaction-id': 50973, 'amount': 1090},\n",
       "   {'transaction-id': 51525, 'amount': 1087},\n",
       "   {'transaction-id': 51589, 'amount': 897},\n",
       "   {'transaction-id': 51881, 'amount': 1194},\n",
       "   {'transaction-id': 52363, 'amount': 1034},\n",
       "   {'transaction-id': 52893, 'amount': 1204},\n",
       "   {'transaction-id': 53432, 'amount': 882},\n",
       "   {'transaction-id': 53493, 'amount': 991},\n",
       "   {'transaction-id': 53579, 'amount': 1069},\n",
       "   {'transaction-id': 53726, 'amount': 996},\n",
       "   {'transaction-id': 53976, 'amount': 1209},\n",
       "   {'transaction-id': 54165, 'amount': 978},\n",
       "   {'transaction-id': 54181, 'amount': 725},\n",
       "   {'transaction-id': 54363, 'amount': 1127},\n",
       "   {'transaction-id': 54554, 'amount': 1111},\n",
       "   {'transaction-id': 54671, 'amount': 1054},\n",
       "   {'transaction-id': 54721, 'amount': 853},\n",
       "   {'transaction-id': 55233, 'amount': 983},\n",
       "   {'transaction-id': 55251, 'amount': 879},\n",
       "   {'transaction-id': 55799, 'amount': 993},\n",
       "   {'transaction-id': 56422, 'amount': 707},\n",
       "   {'transaction-id': 57421, 'amount': 777},\n",
       "   {'transaction-id': 57933, 'amount': 1024},\n",
       "   {'transaction-id': 58625, 'amount': 1035},\n",
       "   {'transaction-id': 58883, 'amount': 964},\n",
       "   {'transaction-id': 60518, 'amount': 1153},\n",
       "   {'transaction-id': 61271, 'amount': 858},\n",
       "   {'transaction-id': 61774, 'amount': 899},\n",
       "   {'transaction-id': 62073, 'amount': 868},\n",
       "   {'transaction-id': 62465, 'amount': 969},\n",
       "   {'transaction-id': 62659, 'amount': 941},\n",
       "   {'transaction-id': 62742, 'amount': 836},\n",
       "   {'transaction-id': 62830, 'amount': 745},\n",
       "   {'transaction-id': 63010, 'amount': 1060},\n",
       "   {'transaction-id': 63426, 'amount': 1033},\n",
       "   {'transaction-id': 63817, 'amount': 999},\n",
       "   {'transaction-id': 63983, 'amount': 908},\n",
       "   {'transaction-id': 64080, 'amount': 957},\n",
       "   {'transaction-id': 64423, 'amount': 1264},\n",
       "   {'transaction-id': 64539, 'amount': 1035},\n",
       "   {'transaction-id': 64659, 'amount': 851},\n",
       "   {'transaction-id': 64933, 'amount': 924},\n",
       "   {'transaction-id': 64988, 'amount': 1027},\n",
       "   {'transaction-id': 65131, 'amount': 952},\n",
       "   {'transaction-id': 65160, 'amount': 953},\n",
       "   {'transaction-id': 65678, 'amount': 1051},\n",
       "   {'transaction-id': 65708, 'amount': 882},\n",
       "   {'transaction-id': 66107, 'amount': 1078},\n",
       "   {'transaction-id': 66877, 'amount': 1127},\n",
       "   {'transaction-id': 67137, 'amount': 798},\n",
       "   {'transaction-id': 67218, 'amount': 1298},\n",
       "   {'transaction-id': 67597, 'amount': 886},\n",
       "   {'transaction-id': 67624, 'amount': 1151},\n",
       "   {'transaction-id': 67663, 'amount': 919},\n",
       "   {'transaction-id': 67889, 'amount': 869},\n",
       "   {'transaction-id': 68204, 'amount': 1136},\n",
       "   {'transaction-id': 68275, 'amount': 1065},\n",
       "   {'transaction-id': 68581, 'amount': 978},\n",
       "   {'transaction-id': 69234, 'amount': 1121},\n",
       "   {'transaction-id': 69291, 'amount': 819},\n",
       "   {'transaction-id': 69929, 'amount': 1131},\n",
       "   {'transaction-id': 70357, 'amount': 987},\n",
       "   {'transaction-id': 70456, 'amount': 1012},\n",
       "   {'transaction-id': 71195, 'amount': 1193},\n",
       "   {'transaction-id': 71233, 'amount': 974},\n",
       "   {'transaction-id': 71741, 'amount': 1175},\n",
       "   {'transaction-id': 72025, 'amount': 1052},\n",
       "   {'transaction-id': 73182, 'amount': 997},\n",
       "   {'transaction-id': 73410, 'amount': 879},\n",
       "   {'transaction-id': 74125, 'amount': 1033},\n",
       "   {'transaction-id': 74160, 'amount': 1047},\n",
       "   {'transaction-id': 74333, 'amount': 946},\n",
       "   {'transaction-id': 74401, 'amount': 913},\n",
       "   {'transaction-id': 76119, 'amount': 1060},\n",
       "   {'transaction-id': 76343, 'amount': 833},\n",
       "   {'transaction-id': 76425, 'amount': 1020},\n",
       "   {'transaction-id': 76843, 'amount': 1058},\n",
       "   {'transaction-id': 77035, 'amount': 1106},\n",
       "   {'transaction-id': 77432, 'amount': 1052},\n",
       "   {'transaction-id': 77712, 'amount': 999},\n",
       "   {'transaction-id': 77876, 'amount': 1143},\n",
       "   {'transaction-id': 78632, 'amount': 975},\n",
       "   {'transaction-id': 78926, 'amount': 832},\n",
       "   {'transaction-id': 78980, 'amount': 791},\n",
       "   {'transaction-id': 79267, 'amount': 1003},\n",
       "   {'transaction-id': 79756, 'amount': 815},\n",
       "   {'transaction-id': 80698, 'amount': 1112},\n",
       "   {'transaction-id': 80876, 'amount': 733},\n",
       "   {'transaction-id': 81282, 'amount': 1072},\n",
       "   {'transaction-id': 81343, 'amount': 832},\n",
       "   {'transaction-id': 81385, 'amount': 1006},\n",
       "   {'transaction-id': 81659, 'amount': 801},\n",
       "   {'transaction-id': 81954, 'amount': 967},\n",
       "   {'transaction-id': 82174, 'amount': 965},\n",
       "   {'transaction-id': 83070, 'amount': 1054},\n",
       "   {'transaction-id': 83208, 'amount': 780},\n",
       "   {'transaction-id': 84454, 'amount': 895},\n",
       "   {'transaction-id': 84631, 'amount': 1126},\n",
       "   {'transaction-id': 84747, 'amount': 827},\n",
       "   {'transaction-id': 85142, 'amount': 1291},\n",
       "   {'transaction-id': 85458, 'amount': 993},\n",
       "   {'transaction-id': 85996, 'amount': 1178},\n",
       "   {'transaction-id': 87077, 'amount': 925},\n",
       "   {'transaction-id': 87139, 'amount': 816},\n",
       "   {'transaction-id': 87511, 'amount': 852},\n",
       "   {'transaction-id': 87639, 'amount': 1022},\n",
       "   {'transaction-id': 87899, 'amount': 809},\n",
       "   {'transaction-id': 88598, 'amount': 906},\n",
       "   {'transaction-id': 88649, 'amount': 902},\n",
       "   {'transaction-id': 88907, 'amount': 1033},\n",
       "   {'transaction-id': 89405, 'amount': 1019},\n",
       "   {'transaction-id': 89605, 'amount': 1033},\n",
       "   {'transaction-id': 89660, 'amount': 1067},\n",
       "   {'transaction-id': 90437, 'amount': 1267},\n",
       "   {'transaction-id': 90905, 'amount': 881},\n",
       "   {'transaction-id': 92047, 'amount': 864},\n",
       "   {'transaction-id': 92292, 'amount': 929},\n",
       "   {'transaction-id': 92634, 'amount': 865},\n",
       "   {'transaction-id': 93338, 'amount': 866},\n",
       "   {'transaction-id': 93508, 'amount': 1116},\n",
       "   {'transaction-id': 94024, 'amount': 933},\n",
       "   {'transaction-id': 94047, 'amount': 704},\n",
       "   {'transaction-id': 94057, 'amount': 811},\n",
       "   {'transaction-id': 94958, 'amount': 938},\n",
       "   {'transaction-id': 94986, 'amount': 840},\n",
       "   {'transaction-id': 95164, 'amount': 1193},\n",
       "   {'transaction-id': 95581, 'amount': 1102},\n",
       "   {'transaction-id': 95824, 'amount': 770},\n",
       "   {'transaction-id': 96060, 'amount': 1083},\n",
       "   {'transaction-id': 96294, 'amount': 863},\n",
       "   {'transaction-id': 97020, 'amount': 968},\n",
       "   {'transaction-id': 97086, 'amount': 1241},\n",
       "   {'transaction-id': 98037, 'amount': 1119},\n",
       "   {'transaction-id': 98379, 'amount': 847},\n",
       "   {'transaction-id': 99026, 'amount': 1004},\n",
       "   {'transaction-id': 99285, 'amount': 1043},\n",
       "   {'transaction-id': 99405, 'amount': 811},\n",
       "   {'transaction-id': 99535, 'amount': 1043}]},\n",
       " {'id': 2,\n",
       "  'name': 'Tim',\n",
       "  'transactions': [{'transaction-id': 792, 'amount': 871},\n",
       "   {'transaction-id': 833, 'amount': 519},\n",
       "   {'transaction-id': 1309, 'amount': 533},\n",
       "   {'transaction-id': 1657, 'amount': 825},\n",
       "   {'transaction-id': 2675, 'amount': 829},\n",
       "   {'transaction-id': 2925, 'amount': 740},\n",
       "   {'transaction-id': 4233, 'amount': 878},\n",
       "   {'transaction-id': 5342, 'amount': 776},\n",
       "   {'transaction-id': 6445, 'amount': 749},\n",
       "   {'transaction-id': 6803, 'amount': 755},\n",
       "   {'transaction-id': 7100, 'amount': 653},\n",
       "   {'transaction-id': 8796, 'amount': 476},\n",
       "   {'transaction-id': 9040, 'amount': 538},\n",
       "   {'transaction-id': 9687, 'amount': 675},\n",
       "   {'transaction-id': 10695, 'amount': 722},\n",
       "   {'transaction-id': 11131, 'amount': 1014},\n",
       "   {'transaction-id': 11314, 'amount': 821},\n",
       "   {'transaction-id': 11598, 'amount': 687},\n",
       "   {'transaction-id': 12095, 'amount': 731},\n",
       "   {'transaction-id': 12313, 'amount': 861},\n",
       "   {'transaction-id': 13894, 'amount': 625},\n",
       "   {'transaction-id': 13982, 'amount': 1005},\n",
       "   {'transaction-id': 15057, 'amount': 636},\n",
       "   {'transaction-id': 15222, 'amount': 904},\n",
       "   {'transaction-id': 15431, 'amount': 719},\n",
       "   {'transaction-id': 17656, 'amount': 581},\n",
       "   {'transaction-id': 17850, 'amount': 434},\n",
       "   {'transaction-id': 18428, 'amount': 668},\n",
       "   {'transaction-id': 18834, 'amount': 732},\n",
       "   {'transaction-id': 18863, 'amount': 514},\n",
       "   {'transaction-id': 19266, 'amount': 671},\n",
       "   {'transaction-id': 19488, 'amount': 709},\n",
       "   {'transaction-id': 20206, 'amount': 925},\n",
       "   {'transaction-id': 20311, 'amount': 813},\n",
       "   {'transaction-id': 21986, 'amount': 901},\n",
       "   {'transaction-id': 22227, 'amount': 719},\n",
       "   {'transaction-id': 22302, 'amount': 679},\n",
       "   {'transaction-id': 22488, 'amount': 688},\n",
       "   {'transaction-id': 22516, 'amount': 728},\n",
       "   {'transaction-id': 22693, 'amount': 801},\n",
       "   {'transaction-id': 22843, 'amount': 731},\n",
       "   {'transaction-id': 23707, 'amount': 595},\n",
       "   {'transaction-id': 23774, 'amount': 316},\n",
       "   {'transaction-id': 23828, 'amount': 522},\n",
       "   {'transaction-id': 24601, 'amount': 701},\n",
       "   {'transaction-id': 25485, 'amount': 672},\n",
       "   {'transaction-id': 27298, 'amount': 805},\n",
       "   {'transaction-id': 28303, 'amount': 1137},\n",
       "   {'transaction-id': 28954, 'amount': 616},\n",
       "   {'transaction-id': 30860, 'amount': 803},\n",
       "   {'transaction-id': 32028, 'amount': 552},\n",
       "   {'transaction-id': 32752, 'amount': 863},\n",
       "   {'transaction-id': 34149, 'amount': 672},\n",
       "   {'transaction-id': 34300, 'amount': 378},\n",
       "   {'transaction-id': 34381, 'amount': 614},\n",
       "   {'transaction-id': 35961, 'amount': 971},\n",
       "   {'transaction-id': 36591, 'amount': 790},\n",
       "   {'transaction-id': 38124, 'amount': 427},\n",
       "   {'transaction-id': 38622, 'amount': 1091},\n",
       "   {'transaction-id': 39108, 'amount': 829},\n",
       "   {'transaction-id': 39879, 'amount': 778},\n",
       "   {'transaction-id': 40904, 'amount': 661},\n",
       "   {'transaction-id': 41812, 'amount': 639},\n",
       "   {'transaction-id': 42360, 'amount': 620},\n",
       "   {'transaction-id': 42433, 'amount': 597},\n",
       "   {'transaction-id': 42890, 'amount': 1028},\n",
       "   {'transaction-id': 43030, 'amount': 697},\n",
       "   {'transaction-id': 43069, 'amount': 557},\n",
       "   {'transaction-id': 43193, 'amount': 604},\n",
       "   {'transaction-id': 43582, 'amount': 873},\n",
       "   {'transaction-id': 44227, 'amount': 735},\n",
       "   {'transaction-id': 46742, 'amount': 765},\n",
       "   {'transaction-id': 47526, 'amount': 874},\n",
       "   {'transaction-id': 50201, 'amount': 951},\n",
       "   {'transaction-id': 50355, 'amount': 725},\n",
       "   {'transaction-id': 50899, 'amount': 833},\n",
       "   {'transaction-id': 51839, 'amount': 780},\n",
       "   {'transaction-id': 53264, 'amount': 857},\n",
       "   {'transaction-id': 53922, 'amount': 687},\n",
       "   {'transaction-id': 55855, 'amount': 569},\n",
       "   {'transaction-id': 56152, 'amount': 942},\n",
       "   {'transaction-id': 58038, 'amount': 947},\n",
       "   {'transaction-id': 59064, 'amount': 537},\n",
       "   {'transaction-id': 59871, 'amount': 637},\n",
       "   {'transaction-id': 60669, 'amount': 951},\n",
       "   {'transaction-id': 61257, 'amount': 693},\n",
       "   {'transaction-id': 61298, 'amount': 734},\n",
       "   {'transaction-id': 61683, 'amount': 786},\n",
       "   {'transaction-id': 62824, 'amount': 859},\n",
       "   {'transaction-id': 66358, 'amount': 427},\n",
       "   {'transaction-id': 66927, 'amount': 597},\n",
       "   {'transaction-id': 68315, 'amount': 771},\n",
       "   {'transaction-id': 69653, 'amount': 752},\n",
       "   {'transaction-id': 70027, 'amount': 679},\n",
       "   {'transaction-id': 70057, 'amount': 642},\n",
       "   {'transaction-id': 71624, 'amount': 666},\n",
       "   {'transaction-id': 72425, 'amount': 598},\n",
       "   {'transaction-id': 74681, 'amount': 526},\n",
       "   {'transaction-id': 74801, 'amount': 779},\n",
       "   {'transaction-id': 75469, 'amount': 588},\n",
       "   {'transaction-id': 77777, 'amount': 908},\n",
       "   {'transaction-id': 78862, 'amount': 804},\n",
       "   {'transaction-id': 79683, 'amount': 818},\n",
       "   {'transaction-id': 80764, 'amount': 641},\n",
       "   {'transaction-id': 82277, 'amount': 487},\n",
       "   {'transaction-id': 82297, 'amount': 645},\n",
       "   {'transaction-id': 82618, 'amount': 540},\n",
       "   {'transaction-id': 82767, 'amount': 421},\n",
       "   {'transaction-id': 83046, 'amount': 533},\n",
       "   {'transaction-id': 83054, 'amount': 832},\n",
       "   {'transaction-id': 83162, 'amount': 873},\n",
       "   {'transaction-id': 83811, 'amount': 603},\n",
       "   {'transaction-id': 84892, 'amount': 636},\n",
       "   {'transaction-id': 86220, 'amount': 748},\n",
       "   {'transaction-id': 87479, 'amount': 699},\n",
       "   {'transaction-id': 87553, 'amount': 629},\n",
       "   {'transaction-id': 90767, 'amount': 714},\n",
       "   {'transaction-id': 91099, 'amount': 620},\n",
       "   {'transaction-id': 93291, 'amount': 569},\n",
       "   {'transaction-id': 94496, 'amount': 541},\n",
       "   {'transaction-id': 95784, 'amount': 678},\n",
       "   {'transaction-id': 98378, 'amount': 311},\n",
       "   {'transaction-id': 99367, 'amount': 1041},\n",
       "   {'transaction-id': 99527, 'amount': 904},\n",
       "   {'transaction-id': 99645, 'amount': 575},\n",
       "   {'transaction-id': 99907, 'amount': 737}]})"
      ]
     },
     "execution_count": 13,
     "metadata": {},
     "output_type": "execute_result"
    }
   ],
   "source": [
    "import json\n",
    "js = lines.map(json.loads)\n",
    "# take: inspect first few elements\n",
    "js.take(3)"
   ]
  },
  {
   "cell_type": "markdown",
   "metadata": {},
   "source": [
    "### 基本查询"
   ]
  },
  {
   "cell_type": "markdown",
   "metadata": {},
   "source": [
    "一旦我们将JSON数据解析为适当的Python对象（`dict`，`list`等），我们就可以通过创建小的Python函数在数据上运行来执行更有趣的查询。"
   ]
  },
  {
   "cell_type": "code",
   "execution_count": 14,
   "metadata": {},
   "outputs": [
    {
     "data": {
      "text/plain": [
       "({'id': 4,\n",
       "  'name': 'Alice',\n",
       "  'transactions': [{'transaction-id': 78, 'amount': 1326},\n",
       "   {'transaction-id': 856, 'amount': 1279},\n",
       "   {'transaction-id': 1981, 'amount': 1337},\n",
       "   {'transaction-id': 2410, 'amount': 1205},\n",
       "   {'transaction-id': 3213, 'amount': 1173},\n",
       "   {'transaction-id': 3600, 'amount': 1267},\n",
       "   {'transaction-id': 4376, 'amount': 1254},\n",
       "   {'transaction-id': 4643, 'amount': 1343},\n",
       "   {'transaction-id': 4785, 'amount': 1306},\n",
       "   {'transaction-id': 4888, 'amount': 1281},\n",
       "   {'transaction-id': 5662, 'amount': 1242},\n",
       "   {'transaction-id': 6028, 'amount': 1479},\n",
       "   {'transaction-id': 6110, 'amount': 1295},\n",
       "   {'transaction-id': 6932, 'amount': 1322},\n",
       "   {'transaction-id': 7090, 'amount': 1311},\n",
       "   {'transaction-id': 8596, 'amount': 1364},\n",
       "   {'transaction-id': 9952, 'amount': 1295},\n",
       "   {'transaction-id': 10740, 'amount': 1352},\n",
       "   {'transaction-id': 10937, 'amount': 1210},\n",
       "   {'transaction-id': 11100, 'amount': 1313},\n",
       "   {'transaction-id': 12275, 'amount': 1328},\n",
       "   {'transaction-id': 12795, 'amount': 1371},\n",
       "   {'transaction-id': 13766, 'amount': 1416},\n",
       "   {'transaction-id': 14633, 'amount': 1298},\n",
       "   {'transaction-id': 15257, 'amount': 1293},\n",
       "   {'transaction-id': 15645, 'amount': 1265},\n",
       "   {'transaction-id': 16082, 'amount': 1370},\n",
       "   {'transaction-id': 16133, 'amount': 1274},\n",
       "   {'transaction-id': 16173, 'amount': 1368},\n",
       "   {'transaction-id': 17276, 'amount': 1397},\n",
       "   {'transaction-id': 17547, 'amount': 1330},\n",
       "   {'transaction-id': 17637, 'amount': 1366},\n",
       "   {'transaction-id': 17951, 'amount': 1291},\n",
       "   {'transaction-id': 18013, 'amount': 1317},\n",
       "   {'transaction-id': 18022, 'amount': 1210},\n",
       "   {'transaction-id': 19223, 'amount': 1310},\n",
       "   {'transaction-id': 19532, 'amount': 1459},\n",
       "   {'transaction-id': 20241, 'amount': 1372},\n",
       "   {'transaction-id': 21813, 'amount': 1254},\n",
       "   {'transaction-id': 22160, 'amount': 1291},\n",
       "   {'transaction-id': 23344, 'amount': 1217},\n",
       "   {'transaction-id': 23917, 'amount': 1407},\n",
       "   {'transaction-id': 25831, 'amount': 1309},\n",
       "   {'transaction-id': 26887, 'amount': 1206},\n",
       "   {'transaction-id': 26961, 'amount': 1375},\n",
       "   {'transaction-id': 27097, 'amount': 1301},\n",
       "   {'transaction-id': 27701, 'amount': 1313},\n",
       "   {'transaction-id': 27822, 'amount': 1385},\n",
       "   {'transaction-id': 27874, 'amount': 1361},\n",
       "   {'transaction-id': 28545, 'amount': 1299},\n",
       "   {'transaction-id': 30985, 'amount': 1439},\n",
       "   {'transaction-id': 31023, 'amount': 1414},\n",
       "   {'transaction-id': 31360, 'amount': 1236},\n",
       "   {'transaction-id': 32795, 'amount': 1367},\n",
       "   {'transaction-id': 33832, 'amount': 1236},\n",
       "   {'transaction-id': 34194, 'amount': 1328},\n",
       "   {'transaction-id': 34601, 'amount': 1249},\n",
       "   {'transaction-id': 36709, 'amount': 1313},\n",
       "   {'transaction-id': 36870, 'amount': 1297},\n",
       "   {'transaction-id': 37362, 'amount': 1274},\n",
       "   {'transaction-id': 37803, 'amount': 1321},\n",
       "   {'transaction-id': 39066, 'amount': 1307},\n",
       "   {'transaction-id': 39263, 'amount': 1379},\n",
       "   {'transaction-id': 39360, 'amount': 1320},\n",
       "   {'transaction-id': 39687, 'amount': 1304},\n",
       "   {'transaction-id': 40347, 'amount': 1433},\n",
       "   {'transaction-id': 40893, 'amount': 1353},\n",
       "   {'transaction-id': 41623, 'amount': 1464},\n",
       "   {'transaction-id': 41864, 'amount': 1266},\n",
       "   {'transaction-id': 42774, 'amount': 1278},\n",
       "   {'transaction-id': 42888, 'amount': 1277},\n",
       "   {'transaction-id': 43293, 'amount': 1353},\n",
       "   {'transaction-id': 44554, 'amount': 1303},\n",
       "   {'transaction-id': 44801, 'amount': 1447},\n",
       "   {'transaction-id': 45498, 'amount': 1441},\n",
       "   {'transaction-id': 46953, 'amount': 1296},\n",
       "   {'transaction-id': 47233, 'amount': 1454},\n",
       "   {'transaction-id': 48807, 'amount': 1430},\n",
       "   {'transaction-id': 49054, 'amount': 1378},\n",
       "   {'transaction-id': 49321, 'amount': 1217},\n",
       "   {'transaction-id': 51513, 'amount': 1281},\n",
       "   {'transaction-id': 52171, 'amount': 1286},\n",
       "   {'transaction-id': 52509, 'amount': 1354},\n",
       "   {'transaction-id': 53144, 'amount': 1333},\n",
       "   {'transaction-id': 53331, 'amount': 1304},\n",
       "   {'transaction-id': 53462, 'amount': 1331},\n",
       "   {'transaction-id': 53524, 'amount': 1321},\n",
       "   {'transaction-id': 54126, 'amount': 1353},\n",
       "   {'transaction-id': 56209, 'amount': 1297},\n",
       "   {'transaction-id': 57031, 'amount': 1367},\n",
       "   {'transaction-id': 58355, 'amount': 1257},\n",
       "   {'transaction-id': 58561, 'amount': 1302},\n",
       "   {'transaction-id': 59418, 'amount': 1293},\n",
       "   {'transaction-id': 60052, 'amount': 1209},\n",
       "   {'transaction-id': 60286, 'amount': 1418},\n",
       "   {'transaction-id': 60478, 'amount': 1235},\n",
       "   {'transaction-id': 60846, 'amount': 1382},\n",
       "   {'transaction-id': 61040, 'amount': 1328},\n",
       "   {'transaction-id': 61158, 'amount': 1378},\n",
       "   {'transaction-id': 62417, 'amount': 1363},\n",
       "   {'transaction-id': 63526, 'amount': 1330},\n",
       "   {'transaction-id': 63967, 'amount': 1312},\n",
       "   {'transaction-id': 64354, 'amount': 1249},\n",
       "   {'transaction-id': 64536, 'amount': 1441},\n",
       "   {'transaction-id': 67545, 'amount': 1383},\n",
       "   {'transaction-id': 67734, 'amount': 1417},\n",
       "   {'transaction-id': 67777, 'amount': 1432},\n",
       "   {'transaction-id': 68271, 'amount': 1321},\n",
       "   {'transaction-id': 68745, 'amount': 1258},\n",
       "   {'transaction-id': 68780, 'amount': 1282},\n",
       "   {'transaction-id': 68881, 'amount': 1390},\n",
       "   {'transaction-id': 69712, 'amount': 1288},\n",
       "   {'transaction-id': 69749, 'amount': 1331},\n",
       "   {'transaction-id': 69875, 'amount': 1351},\n",
       "   {'transaction-id': 70359, 'amount': 1355},\n",
       "   {'transaction-id': 71979, 'amount': 1386},\n",
       "   {'transaction-id': 72856, 'amount': 1287},\n",
       "   {'transaction-id': 73301, 'amount': 1354},\n",
       "   {'transaction-id': 74036, 'amount': 1307},\n",
       "   {'transaction-id': 75665, 'amount': 1479},\n",
       "   {'transaction-id': 76250, 'amount': 1279},\n",
       "   {'transaction-id': 76446, 'amount': 1257},\n",
       "   {'transaction-id': 77178, 'amount': 1416},\n",
       "   {'transaction-id': 77967, 'amount': 1324},\n",
       "   {'transaction-id': 78622, 'amount': 1253},\n",
       "   {'transaction-id': 79246, 'amount': 1269},\n",
       "   {'transaction-id': 79612, 'amount': 1389},\n",
       "   {'transaction-id': 79790, 'amount': 1433},\n",
       "   {'transaction-id': 81534, 'amount': 1315},\n",
       "   {'transaction-id': 83621, 'amount': 1439},\n",
       "   {'transaction-id': 83917, 'amount': 1274},\n",
       "   {'transaction-id': 84157, 'amount': 1179},\n",
       "   {'transaction-id': 84422, 'amount': 1312},\n",
       "   {'transaction-id': 84664, 'amount': 1352},\n",
       "   {'transaction-id': 85337, 'amount': 1413},\n",
       "   {'transaction-id': 85625, 'amount': 1290},\n",
       "   {'transaction-id': 86852, 'amount': 1412},\n",
       "   {'transaction-id': 88564, 'amount': 1286},\n",
       "   {'transaction-id': 89357, 'amount': 1351},\n",
       "   {'transaction-id': 90107, 'amount': 1325},\n",
       "   {'transaction-id': 90171, 'amount': 1441},\n",
       "   {'transaction-id': 90220, 'amount': 1329},\n",
       "   {'transaction-id': 90445, 'amount': 1395},\n",
       "   {'transaction-id': 91941, 'amount': 1272},\n",
       "   {'transaction-id': 92152, 'amount': 1376},\n",
       "   {'transaction-id': 92546, 'amount': 1431},\n",
       "   {'transaction-id': 92916, 'amount': 1355},\n",
       "   {'transaction-id': 93137, 'amount': 1221},\n",
       "   {'transaction-id': 93917, 'amount': 1331},\n",
       "   {'transaction-id': 94651, 'amount': 1374},\n",
       "   {'transaction-id': 94863, 'amount': 1282},\n",
       "   {'transaction-id': 95384, 'amount': 1322},\n",
       "   {'transaction-id': 95812, 'amount': 1455},\n",
       "   {'transaction-id': 98875, 'amount': 1369},\n",
       "   {'transaction-id': 99463, 'amount': 1345}]},\n",
       " {'id': 45,\n",
       "  'name': 'Alice',\n",
       "  'transactions': [{'transaction-id': 3417, 'amount': 548},\n",
       "   {'transaction-id': 9156, 'amount': 553},\n",
       "   {'transaction-id': 11992, 'amount': 503},\n",
       "   {'transaction-id': 18527, 'amount': 558},\n",
       "   {'transaction-id': 19237, 'amount': 513},\n",
       "   {'transaction-id': 19388, 'amount': 581},\n",
       "   {'transaction-id': 27391, 'amount': 503},\n",
       "   {'transaction-id': 41359, 'amount': 531},\n",
       "   {'transaction-id': 47440, 'amount': 545},\n",
       "   {'transaction-id': 62177, 'amount': 610},\n",
       "   {'transaction-id': 63407, 'amount': 575},\n",
       "   {'transaction-id': 64103, 'amount': 535},\n",
       "   {'transaction-id': 68086, 'amount': 566},\n",
       "   {'transaction-id': 70762, 'amount': 620},\n",
       "   {'transaction-id': 77786, 'amount': 506},\n",
       "   {'transaction-id': 78673, 'amount': 664},\n",
       "   {'transaction-id': 84984, 'amount': 588},\n",
       "   {'transaction-id': 89723, 'amount': 588},\n",
       "   {'transaction-id': 94683, 'amount': 575},\n",
       "   {'transaction-id': 98331, 'amount': 654}]},\n",
       " {'id': 82,\n",
       "  'name': 'Alice',\n",
       "  'transactions': [{'transaction-id': 978, 'amount': 2322},\n",
       "   {'transaction-id': 6860, 'amount': 2129},\n",
       "   {'transaction-id': 14372, 'amount': 2350},\n",
       "   {'transaction-id': 16198, 'amount': 2290},\n",
       "   {'transaction-id': 16543, 'amount': 2087},\n",
       "   {'transaction-id': 21100, 'amount': 2190},\n",
       "   {'transaction-id': 24673, 'amount': 2399},\n",
       "   {'transaction-id': 28414, 'amount': 1936},\n",
       "   {'transaction-id': 32727, 'amount': 2253},\n",
       "   {'transaction-id': 48658, 'amount': 2301},\n",
       "   {'transaction-id': 52368, 'amount': 2130},\n",
       "   {'transaction-id': 53605, 'amount': 2134},\n",
       "   {'transaction-id': 58870, 'amount': 2327},\n",
       "   {'transaction-id': 60019, 'amount': 2151},\n",
       "   {'transaction-id': 78370, 'amount': 2150},\n",
       "   {'transaction-id': 88852, 'amount': 2180},\n",
       "   {'transaction-id': 94060, 'amount': 2140},\n",
       "   {'transaction-id': 98425, 'amount': 2292}]},\n",
       " {'id': 128,\n",
       "  'name': 'Alice',\n",
       "  'transactions': [{'transaction-id': 91, 'amount': 574},\n",
       "   {'transaction-id': 427, 'amount': 551},\n",
       "   {'transaction-id': 659, 'amount': 510},\n",
       "   {'transaction-id': 1092, 'amount': 487},\n",
       "   {'transaction-id': 1096, 'amount': 489},\n",
       "   {'transaction-id': 1112, 'amount': 539},\n",
       "   {'transaction-id': 1130, 'amount': 498},\n",
       "   {'transaction-id': 1466, 'amount': 522},\n",
       "   {'transaction-id': 1529, 'amount': 645},\n",
       "   {'transaction-id': 1543, 'amount': 685},\n",
       "   {'transaction-id': 1773, 'amount': 497},\n",
       "   {'transaction-id': 1784, 'amount': 491},\n",
       "   {'transaction-id': 1828, 'amount': 530},\n",
       "   {'transaction-id': 2349, 'amount': 520},\n",
       "   {'transaction-id': 2863, 'amount': 487},\n",
       "   {'transaction-id': 3185, 'amount': 587},\n",
       "   {'transaction-id': 3232, 'amount': 652},\n",
       "   {'transaction-id': 3240, 'amount': 578},\n",
       "   {'transaction-id': 3277, 'amount': 564},\n",
       "   {'transaction-id': 4196, 'amount': 507},\n",
       "   {'transaction-id': 4498, 'amount': 440},\n",
       "   {'transaction-id': 4787, 'amount': 401},\n",
       "   {'transaction-id': 7127, 'amount': 591},\n",
       "   {'transaction-id': 7196, 'amount': 514},\n",
       "   {'transaction-id': 8188, 'amount': 554},\n",
       "   {'transaction-id': 8354, 'amount': 461},\n",
       "   {'transaction-id': 8575, 'amount': 568},\n",
       "   {'transaction-id': 8894, 'amount': 441},\n",
       "   {'transaction-id': 8918, 'amount': 615},\n",
       "   {'transaction-id': 11393, 'amount': 517},\n",
       "   {'transaction-id': 11544, 'amount': 489},\n",
       "   {'transaction-id': 11815, 'amount': 413},\n",
       "   {'transaction-id': 12255, 'amount': 560},\n",
       "   {'transaction-id': 12260, 'amount': 519},\n",
       "   {'transaction-id': 13068, 'amount': 531},\n",
       "   {'transaction-id': 13220, 'amount': 556},\n",
       "   {'transaction-id': 13323, 'amount': 415},\n",
       "   {'transaction-id': 13561, 'amount': 476},\n",
       "   {'transaction-id': 14017, 'amount': 531},\n",
       "   {'transaction-id': 14026, 'amount': 504},\n",
       "   {'transaction-id': 15044, 'amount': 560},\n",
       "   {'transaction-id': 15245, 'amount': 511},\n",
       "   {'transaction-id': 15498, 'amount': 483},\n",
       "   {'transaction-id': 16338, 'amount': 443},\n",
       "   {'transaction-id': 16353, 'amount': 558},\n",
       "   {'transaction-id': 16684, 'amount': 538},\n",
       "   {'transaction-id': 17643, 'amount': 549},\n",
       "   {'transaction-id': 17796, 'amount': 535},\n",
       "   {'transaction-id': 18034, 'amount': 542},\n",
       "   {'transaction-id': 18334, 'amount': 462},\n",
       "   {'transaction-id': 18469, 'amount': 566},\n",
       "   {'transaction-id': 18919, 'amount': 447},\n",
       "   {'transaction-id': 19405, 'amount': 507},\n",
       "   {'transaction-id': 19872, 'amount': 508},\n",
       "   {'transaction-id': 19940, 'amount': 500},\n",
       "   {'transaction-id': 20215, 'amount': 534},\n",
       "   {'transaction-id': 20238, 'amount': 586},\n",
       "   {'transaction-id': 20328, 'amount': 455},\n",
       "   {'transaction-id': 20744, 'amount': 496},\n",
       "   {'transaction-id': 21861, 'amount': 521},\n",
       "   {'transaction-id': 22114, 'amount': 527},\n",
       "   {'transaction-id': 22246, 'amount': 526},\n",
       "   {'transaction-id': 23132, 'amount': 556},\n",
       "   {'transaction-id': 23301, 'amount': 495},\n",
       "   {'transaction-id': 23329, 'amount': 402},\n",
       "   {'transaction-id': 23421, 'amount': 521},\n",
       "   {'transaction-id': 23441, 'amount': 585},\n",
       "   {'transaction-id': 24027, 'amount': 528},\n",
       "   {'transaction-id': 24060, 'amount': 453},\n",
       "   {'transaction-id': 24234, 'amount': 532},\n",
       "   {'transaction-id': 25129, 'amount': 521},\n",
       "   {'transaction-id': 25663, 'amount': 510},\n",
       "   {'transaction-id': 25743, 'amount': 548},\n",
       "   {'transaction-id': 26709, 'amount': 527},\n",
       "   {'transaction-id': 26811, 'amount': 569},\n",
       "   {'transaction-id': 26825, 'amount': 544},\n",
       "   {'transaction-id': 27107, 'amount': 453},\n",
       "   {'transaction-id': 27258, 'amount': 559},\n",
       "   {'transaction-id': 27752, 'amount': 509},\n",
       "   {'transaction-id': 27999, 'amount': 596},\n",
       "   {'transaction-id': 28444, 'amount': 436},\n",
       "   {'transaction-id': 29164, 'amount': 534},\n",
       "   {'transaction-id': 29300, 'amount': 402},\n",
       "   {'transaction-id': 29502, 'amount': 611},\n",
       "   {'transaction-id': 29575, 'amount': 458},\n",
       "   {'transaction-id': 29849, 'amount': 583},\n",
       "   {'transaction-id': 30038, 'amount': 538},\n",
       "   {'transaction-id': 30689, 'amount': 533},\n",
       "   {'transaction-id': 31069, 'amount': 530},\n",
       "   {'transaction-id': 31191, 'amount': 550},\n",
       "   {'transaction-id': 31415, 'amount': 420},\n",
       "   {'transaction-id': 31858, 'amount': 501},\n",
       "   {'transaction-id': 32116, 'amount': 617},\n",
       "   {'transaction-id': 32610, 'amount': 512},\n",
       "   {'transaction-id': 32932, 'amount': 624},\n",
       "   {'transaction-id': 33122, 'amount': 578},\n",
       "   {'transaction-id': 33288, 'amount': 602},\n",
       "   {'transaction-id': 33505, 'amount': 586},\n",
       "   {'transaction-id': 34017, 'amount': 585},\n",
       "   {'transaction-id': 34067, 'amount': 403},\n",
       "   {'transaction-id': 34311, 'amount': 640},\n",
       "   {'transaction-id': 34387, 'amount': 544},\n",
       "   {'transaction-id': 35015, 'amount': 664},\n",
       "   {'transaction-id': 35851, 'amount': 514},\n",
       "   {'transaction-id': 35946, 'amount': 562},\n",
       "   {'transaction-id': 36733, 'amount': 410},\n",
       "   {'transaction-id': 37046, 'amount': 569},\n",
       "   {'transaction-id': 37579, 'amount': 416},\n",
       "   {'transaction-id': 37848, 'amount': 548},\n",
       "   {'transaction-id': 38015, 'amount': 615},\n",
       "   {'transaction-id': 38414, 'amount': 480},\n",
       "   {'transaction-id': 38524, 'amount': 601},\n",
       "   {'transaction-id': 38670, 'amount': 602},\n",
       "   {'transaction-id': 38673, 'amount': 531},\n",
       "   {'transaction-id': 38793, 'amount': 422},\n",
       "   {'transaction-id': 39586, 'amount': 603},\n",
       "   {'transaction-id': 40520, 'amount': 601},\n",
       "   {'transaction-id': 40856, 'amount': 490},\n",
       "   {'transaction-id': 41555, 'amount': 507},\n",
       "   {'transaction-id': 42991, 'amount': 515},\n",
       "   {'transaction-id': 44641, 'amount': 653},\n",
       "   {'transaction-id': 44662, 'amount': 521},\n",
       "   {'transaction-id': 45675, 'amount': 471},\n",
       "   {'transaction-id': 45996, 'amount': 481},\n",
       "   {'transaction-id': 46022, 'amount': 391},\n",
       "   {'transaction-id': 46383, 'amount': 534},\n",
       "   {'transaction-id': 46540, 'amount': 523},\n",
       "   {'transaction-id': 47337, 'amount': 574},\n",
       "   {'transaction-id': 47963, 'amount': 530},\n",
       "   {'transaction-id': 47997, 'amount': 587},\n",
       "   {'transaction-id': 48541, 'amount': 476},\n",
       "   {'transaction-id': 49106, 'amount': 567},\n",
       "   {'transaction-id': 49594, 'amount': 574},\n",
       "   {'transaction-id': 49622, 'amount': 701},\n",
       "   {'transaction-id': 49970, 'amount': 510},\n",
       "   {'transaction-id': 50782, 'amount': 514},\n",
       "   {'transaction-id': 51224, 'amount': 559},\n",
       "   {'transaction-id': 51313, 'amount': 534},\n",
       "   {'transaction-id': 51672, 'amount': 583},\n",
       "   {'transaction-id': 51701, 'amount': 569},\n",
       "   {'transaction-id': 52736, 'amount': 519},\n",
       "   {'transaction-id': 52868, 'amount': 454},\n",
       "   {'transaction-id': 54149, 'amount': 493},\n",
       "   {'transaction-id': 54731, 'amount': 547},\n",
       "   {'transaction-id': 54930, 'amount': 554},\n",
       "   {'transaction-id': 55951, 'amount': 556},\n",
       "   {'transaction-id': 56043, 'amount': 607},\n",
       "   {'transaction-id': 56491, 'amount': 618},\n",
       "   {'transaction-id': 59063, 'amount': 539},\n",
       "   {'transaction-id': 59095, 'amount': 476},\n",
       "   {'transaction-id': 59398, 'amount': 568},\n",
       "   {'transaction-id': 59614, 'amount': 589},\n",
       "   {'transaction-id': 59838, 'amount': 534},\n",
       "   {'transaction-id': 60475, 'amount': 628},\n",
       "   {'transaction-id': 60827, 'amount': 471},\n",
       "   {'transaction-id': 61291, 'amount': 469},\n",
       "   {'transaction-id': 61384, 'amount': 572},\n",
       "   {'transaction-id': 61747, 'amount': 520},\n",
       "   {'transaction-id': 61804, 'amount': 648},\n",
       "   {'transaction-id': 62405, 'amount': 537},\n",
       "   {'transaction-id': 62657, 'amount': 442},\n",
       "   {'transaction-id': 63206, 'amount': 595},\n",
       "   {'transaction-id': 63211, 'amount': 511},\n",
       "   {'transaction-id': 63833, 'amount': 521},\n",
       "   {'transaction-id': 63970, 'amount': 404},\n",
       "   {'transaction-id': 64546, 'amount': 513},\n",
       "   {'transaction-id': 64616, 'amount': 545},\n",
       "   {'transaction-id': 64686, 'amount': 514},\n",
       "   {'transaction-id': 64773, 'amount': 602},\n",
       "   {'transaction-id': 65335, 'amount': 580},\n",
       "   {'transaction-id': 65569, 'amount': 538},\n",
       "   {'transaction-id': 66470, 'amount': 567},\n",
       "   {'transaction-id': 66796, 'amount': 587},\n",
       "   {'transaction-id': 67324, 'amount': 511},\n",
       "   {'transaction-id': 67377, 'amount': 604},\n",
       "   {'transaction-id': 67559, 'amount': 491},\n",
       "   {'transaction-id': 67737, 'amount': 618},\n",
       "   {'transaction-id': 67848, 'amount': 520},\n",
       "   {'transaction-id': 68697, 'amount': 614},\n",
       "   {'transaction-id': 68747, 'amount': 538},\n",
       "   {'transaction-id': 69509, 'amount': 605},\n",
       "   {'transaction-id': 70079, 'amount': 603},\n",
       "   {'transaction-id': 70723, 'amount': 520},\n",
       "   {'transaction-id': 71129, 'amount': 657},\n",
       "   {'transaction-id': 71196, 'amount': 565},\n",
       "   {'transaction-id': 72370, 'amount': 426},\n",
       "   {'transaction-id': 72774, 'amount': 424},\n",
       "   {'transaction-id': 72895, 'amount': 515},\n",
       "   {'transaction-id': 73245, 'amount': 555},\n",
       "   {'transaction-id': 73318, 'amount': 495},\n",
       "   {'transaction-id': 73384, 'amount': 485},\n",
       "   {'transaction-id': 73471, 'amount': 455},\n",
       "   {'transaction-id': 73623, 'amount': 376},\n",
       "   {'transaction-id': 73661, 'amount': 565},\n",
       "   {'transaction-id': 73978, 'amount': 500},\n",
       "   {'transaction-id': 74039, 'amount': 511},\n",
       "   {'transaction-id': 74783, 'amount': 559},\n",
       "   {'transaction-id': 75544, 'amount': 530},\n",
       "   {'transaction-id': 76391, 'amount': 499},\n",
       "   {'transaction-id': 77141, 'amount': 453},\n",
       "   {'transaction-id': 77415, 'amount': 477},\n",
       "   {'transaction-id': 77687, 'amount': 478},\n",
       "   {'transaction-id': 77994, 'amount': 659},\n",
       "   {'transaction-id': 78194, 'amount': 648},\n",
       "   {'transaction-id': 78943, 'amount': 523},\n",
       "   {'transaction-id': 79204, 'amount': 597},\n",
       "   {'transaction-id': 79372, 'amount': 626},\n",
       "   {'transaction-id': 79653, 'amount': 576},\n",
       "   {'transaction-id': 79696, 'amount': 550},\n",
       "   {'transaction-id': 79718, 'amount': 576},\n",
       "   {'transaction-id': 79754, 'amount': 507},\n",
       "   {'transaction-id': 79808, 'amount': 565},\n",
       "   {'transaction-id': 80464, 'amount': 576},\n",
       "   {'transaction-id': 80655, 'amount': 641},\n",
       "   {'transaction-id': 80786, 'amount': 464},\n",
       "   {'transaction-id': 80927, 'amount': 591},\n",
       "   {'transaction-id': 80975, 'amount': 555},\n",
       "   {'transaction-id': 81011, 'amount': 405},\n",
       "   {'transaction-id': 81039, 'amount': 489},\n",
       "   {'transaction-id': 81375, 'amount': 477},\n",
       "   {'transaction-id': 81579, 'amount': 505},\n",
       "   {'transaction-id': 81920, 'amount': 574},\n",
       "   {'transaction-id': 82093, 'amount': 466},\n",
       "   {'transaction-id': 82986, 'amount': 490},\n",
       "   {'transaction-id': 83182, 'amount': 452},\n",
       "   {'transaction-id': 83200, 'amount': 383},\n",
       "   {'transaction-id': 83386, 'amount': 613},\n",
       "   {'transaction-id': 83618, 'amount': 533},\n",
       "   {'transaction-id': 83635, 'amount': 520},\n",
       "   {'transaction-id': 83938, 'amount': 587},\n",
       "   {'transaction-id': 84161, 'amount': 556},\n",
       "   {'transaction-id': 84213, 'amount': 471},\n",
       "   {'transaction-id': 84238, 'amount': 572},\n",
       "   {'transaction-id': 85060, 'amount': 530},\n",
       "   {'transaction-id': 85297, 'amount': 459},\n",
       "   {'transaction-id': 85519, 'amount': 599},\n",
       "   {'transaction-id': 85619, 'amount': 514},\n",
       "   {'transaction-id': 86031, 'amount': 521},\n",
       "   {'transaction-id': 86257, 'amount': 467},\n",
       "   {'transaction-id': 86807, 'amount': 460},\n",
       "   {'transaction-id': 87938, 'amount': 461},\n",
       "   {'transaction-id': 88468, 'amount': 557},\n",
       "   {'transaction-id': 89853, 'amount': 624},\n",
       "   {'transaction-id': 89914, 'amount': 496},\n",
       "   {'transaction-id': 90021, 'amount': 456},\n",
       "   {'transaction-id': 90343, 'amount': 578},\n",
       "   {'transaction-id': 91238, 'amount': 538},\n",
       "   {'transaction-id': 91715, 'amount': 606},\n",
       "   {'transaction-id': 91875, 'amount': 520},\n",
       "   {'transaction-id': 92217, 'amount': 480},\n",
       "   {'transaction-id': 92471, 'amount': 560},\n",
       "   {'transaction-id': 92760, 'amount': 478},\n",
       "   {'transaction-id': 92893, 'amount': 542},\n",
       "   {'transaction-id': 94171, 'amount': 451},\n",
       "   {'transaction-id': 94658, 'amount': 571},\n",
       "   {'transaction-id': 94825, 'amount': 630},\n",
       "   {'transaction-id': 95173, 'amount': 656},\n",
       "   {'transaction-id': 95459, 'amount': 632},\n",
       "   {'transaction-id': 95629, 'amount': 480},\n",
       "   {'transaction-id': 95825, 'amount': 506},\n",
       "   {'transaction-id': 95897, 'amount': 564},\n",
       "   {'transaction-id': 95949, 'amount': 582},\n",
       "   {'transaction-id': 96117, 'amount': 644},\n",
       "   {'transaction-id': 96138, 'amount': 517},\n",
       "   {'transaction-id': 96813, 'amount': 539},\n",
       "   {'transaction-id': 97434, 'amount': 353},\n",
       "   {'transaction-id': 97594, 'amount': 476},\n",
       "   {'transaction-id': 97817, 'amount': 532},\n",
       "   {'transaction-id': 98056, 'amount': 524},\n",
       "   {'transaction-id': 98200, 'amount': 483},\n",
       "   {'transaction-id': 98660, 'amount': 568},\n",
       "   {'transaction-id': 98991, 'amount': 414},\n",
       "   {'transaction-id': 99561, 'amount': 455},\n",
       "   {'transaction-id': 99697, 'amount': 416},\n",
       "   {'transaction-id': 99798, 'amount': 545}]},\n",
       " {'id': 154,\n",
       "  'name': 'Alice',\n",
       "  'transactions': [{'transaction-id': 798, 'amount': 200},\n",
       "   {'transaction-id': 2592, 'amount': 202},\n",
       "   {'transaction-id': 2685, 'amount': 170},\n",
       "   {'transaction-id': 5275, 'amount': 187},\n",
       "   {'transaction-id': 11049, 'amount': 211},\n",
       "   {'transaction-id': 11118, 'amount': 173},\n",
       "   {'transaction-id': 11511, 'amount': 178},\n",
       "   {'transaction-id': 11685, 'amount': 188},\n",
       "   {'transaction-id': 14174, 'amount': 176},\n",
       "   {'transaction-id': 15973, 'amount': 226},\n",
       "   {'transaction-id': 17509, 'amount': 215},\n",
       "   {'transaction-id': 21197, 'amount': 213},\n",
       "   {'transaction-id': 25332, 'amount': 194},\n",
       "   {'transaction-id': 26206, 'amount': 200},\n",
       "   {'transaction-id': 26623, 'amount': 190},\n",
       "   {'transaction-id': 26851, 'amount': 215},\n",
       "   {'transaction-id': 27201, 'amount': 243},\n",
       "   {'transaction-id': 27971, 'amount': 253},\n",
       "   {'transaction-id': 28520, 'amount': 164},\n",
       "   {'transaction-id': 33907, 'amount': 228},\n",
       "   {'transaction-id': 43825, 'amount': 241},\n",
       "   {'transaction-id': 44672, 'amount': 207},\n",
       "   {'transaction-id': 45270, 'amount': 265},\n",
       "   {'transaction-id': 45887, 'amount': 213},\n",
       "   {'transaction-id': 46137, 'amount': 210},\n",
       "   {'transaction-id': 47620, 'amount': 208},\n",
       "   {'transaction-id': 48792, 'amount': 237},\n",
       "   {'transaction-id': 49373, 'amount': 165},\n",
       "   {'transaction-id': 50653, 'amount': 173},\n",
       "   {'transaction-id': 53655, 'amount': 198},\n",
       "   {'transaction-id': 55148, 'amount': 194},\n",
       "   {'transaction-id': 56847, 'amount': 180},\n",
       "   {'transaction-id': 59891, 'amount': 198},\n",
       "   {'transaction-id': 61625, 'amount': 236},\n",
       "   {'transaction-id': 61730, 'amount': 180},\n",
       "   {'transaction-id': 65616, 'amount': 145},\n",
       "   {'transaction-id': 71925, 'amount': 183},\n",
       "   {'transaction-id': 74084, 'amount': 214},\n",
       "   {'transaction-id': 75133, 'amount': 177},\n",
       "   {'transaction-id': 77814, 'amount': 223},\n",
       "   {'transaction-id': 79156, 'amount': 178},\n",
       "   {'transaction-id': 80035, 'amount': 233},\n",
       "   {'transaction-id': 80900, 'amount': 156},\n",
       "   {'transaction-id': 80912, 'amount': 178},\n",
       "   {'transaction-id': 83190, 'amount': 176},\n",
       "   {'transaction-id': 85605, 'amount': 227},\n",
       "   {'transaction-id': 89393, 'amount': 225},\n",
       "   {'transaction-id': 91447, 'amount': 177},\n",
       "   {'transaction-id': 92357, 'amount': 187},\n",
       "   {'transaction-id': 93453, 'amount': 178},\n",
       "   {'transaction-id': 94767, 'amount': 190},\n",
       "   {'transaction-id': 97223, 'amount': 195}]})"
      ]
     },
     "execution_count": 14,
     "metadata": {},
     "output_type": "execute_result"
    }
   ],
   "source": [
    "# filter: keep only some elements of the sequence\n",
    "js.filter(lambda record: record['name'] == 'Alice').take(5)"
   ]
  },
  {
   "cell_type": "code",
   "execution_count": 15,
   "metadata": {},
   "outputs": [
    {
     "data": {
      "text/plain": [
       "({'name': 'Alice', 'count': 155},\n",
       " {'name': 'Alice', 'count': 20},\n",
       " {'name': 'Alice', 'count': 18},\n",
       " {'name': 'Alice', 'count': 275},\n",
       " {'name': 'Alice', 'count': 52})"
      ]
     },
     "execution_count": 15,
     "metadata": {},
     "output_type": "execute_result"
    }
   ],
   "source": [
    "def count_transactions(d):\n",
    "    return {'name': d['name'], 'count': len(d['transactions'])}\n",
    "\n",
    "# map: apply a function to each element\n",
    "(js.filter(lambda record: record['name'] == 'Alice')\n",
    "   .map(count_transactions)\n",
    "   .take(5))"
   ]
  },
  {
   "cell_type": "code",
   "execution_count": 16,
   "metadata": {},
   "outputs": [
    {
     "data": {
      "text/plain": [
       "(155, 20, 18, 275, 52)"
      ]
     },
     "execution_count": 16,
     "metadata": {},
     "output_type": "execute_result"
    }
   ],
   "source": [
    "# pluck: select a field, as from a dictionary, element[field]\n",
    "(js.filter(lambda record: record['name'] == 'Alice')\n",
    "   .map(count_transactions)\n",
    "   .pluck('count')\n",
    "   .take(5))"
   ]
  },
  {
   "cell_type": "code",
   "execution_count": 17,
   "metadata": {},
   "outputs": [
    {
     "data": {
      "text/plain": [
       "121.89916666666667"
      ]
     },
     "execution_count": 17,
     "metadata": {},
     "output_type": "execute_result"
    }
   ],
   "source": [
    "# Average number of transactions for all of the Alice entries\n",
    "(js.filter(lambda record: record['name'] == 'Alice')\n",
    "   .map(count_transactions)\n",
    "   .pluck('count')\n",
    "   .mean()\n",
    "   .compute())"
   ]
  },
  {
   "cell_type": "markdown",
   "metadata": {},
   "source": [
    "### Use `flatten` to de-nest"
   ]
  },
  {
   "cell_type": "markdown",
   "metadata": {},
   "source": [
    "In the example below we see the use of `.flatten()` to flatten results.  We compute the average amount for all transactions for all Alices."
   ]
  },
  {
   "cell_type": "code",
   "execution_count": null,
   "metadata": {},
   "outputs": [],
   "source": [
    "js.filter(lambda record: record['name'] == 'Alice').pluck('transactions').take(3)"
   ]
  },
  {
   "cell_type": "code",
   "execution_count": null,
   "metadata": {},
   "outputs": [],
   "source": [
    "(js.filter(lambda record: record['name'] == 'Alice')\n",
    "   .pluck('transactions')\n",
    "   .flatten()\n",
    "   .take(3))"
   ]
  },
  {
   "cell_type": "code",
   "execution_count": null,
   "metadata": {},
   "outputs": [],
   "source": [
    "(js.filter(lambda record: record['name'] == 'Alice')\n",
    "   .pluck('transactions')\n",
    "   .flatten()\n",
    "   .pluck('amount')\n",
    "   .take(3))"
   ]
  },
  {
   "cell_type": "code",
   "execution_count": null,
   "metadata": {},
   "outputs": [],
   "source": [
    "(js.filter(lambda record: record['name'] == 'Alice')\n",
    "   .pluck('transactions')\n",
    "   .flatten()\n",
    "   .pluck('amount')\n",
    "   .mean()\n",
    "   .compute())"
   ]
  },
  {
   "cell_type": "markdown",
   "metadata": {},
   "source": [
    "### Groupby and Foldby"
   ]
  },
  {
   "cell_type": "markdown",
   "metadata": {},
   "source": [
    "Often we want to group data by some function or key.  We can do this either with the `.groupby` method, which is straightforward but forces a full shuffle of the data (expensive) or with the harder-to-use but faster `.foldby` method, which does a streaming combined groupby and reduction.\n",
    "\n",
    "*  `groupby`:  Shuffles data so that all items with the same key are in the same key-value pair\n",
    "*  `foldby`:  Walks through the data accumulating a result per key\n",
    "\n",
    "*Note: the full groupby is particularly bad. In actual workloads you would do well to use `foldby` or switch to `DataFrame`s if possible.*"
   ]
  },
  {
   "cell_type": "markdown",
   "metadata": {},
   "source": [
    "### `groupby`"
   ]
  },
  {
   "cell_type": "markdown",
   "metadata": {},
   "source": [
    "Groupby collects items in your collection so that all items with the same value under some function are collected together into a key-value pair."
   ]
  },
  {
   "cell_type": "code",
   "execution_count": null,
   "metadata": {},
   "outputs": [],
   "source": [
    "b = db.from_sequence(['Alice', 'Bob', 'Charlie', 'Dan', 'Edith', 'Frank'])\n",
    "b.groupby(len).compute()  # names grouped by length"
   ]
  },
  {
   "cell_type": "code",
   "execution_count": null,
   "metadata": {},
   "outputs": [],
   "source": [
    "b = db.from_sequence(list(range(10)))\n",
    "b.groupby(lambda x: x % 2).compute()"
   ]
  },
  {
   "cell_type": "code",
   "execution_count": null,
   "metadata": {},
   "outputs": [],
   "source": [
    "b.groupby(lambda x: x % 2).starmap(lambda k, v: (k, max(v))).compute()"
   ]
  },
  {
   "cell_type": "markdown",
   "metadata": {},
   "source": [
    "### `foldby`"
   ]
  },
  {
   "cell_type": "markdown",
   "metadata": {},
   "source": [
    "Foldby can be quite odd at first.  It is similar to the following functions from other libraries:\n",
    "\n",
    "*  [`toolz.reduceby`](http://toolz.readthedocs.io/en/latest/streaming-analytics.html#streaming-split-apply-combine)\n",
    "*  [`pyspark.RDD.combineByKey`](http://abshinn.github.io/python/apache-spark/2014/10/11/using-combinebykey-in-apache-spark/)\n",
    "\n",
    "When using `foldby` you provide \n",
    "\n",
    "1.  A key function on which to group elements\n",
    "2.  A binary operator such as you would pass to `reduce` that you use to perform reduction per each group\n",
    "3.  A combine binary operator that can combine the results of two `reduce` calls on different parts of your dataset.\n",
    "\n",
    "Your reduction must be associative.  It will happen in parallel in each of the partitions of your dataset.  Then all of these intermediate results will be combined by the `combine` binary operator."
   ]
  },
  {
   "cell_type": "code",
   "execution_count": null,
   "metadata": {},
   "outputs": [],
   "source": [
    "is_even = lambda x: x % 2\n",
    "b.foldby(is_even, binop=max, combine=max).compute()"
   ]
  },
  {
   "cell_type": "markdown",
   "metadata": {},
   "source": [
    "### Example with account data"
   ]
  },
  {
   "cell_type": "markdown",
   "metadata": {},
   "source": [
    "We find the number of people with the same name."
   ]
  },
  {
   "cell_type": "code",
   "execution_count": null,
   "metadata": {},
   "outputs": [],
   "source": [
    "%%time\n",
    "# Warning, this one takes a while...\n",
    "result = js.groupby(lambda item: item['name']).starmap(lambda k, v: (k, len(v))).compute()\n",
    "print(sorted(result))"
   ]
  },
  {
   "cell_type": "code",
   "execution_count": null,
   "metadata": {},
   "outputs": [],
   "source": [
    "%%time\n",
    "# This one is comparatively fast and produces the same result.\n",
    "from operator import add\n",
    "def incr(tot, _):\n",
    "    return tot+1\n",
    "\n",
    "result = js.foldby(key='name', \n",
    "                   binop=incr, \n",
    "                   initial=0, \n",
    "                   combine=add, \n",
    "                   combine_initial=0).compute()\n",
    "print(sorted(result))"
   ]
  },
  {
   "cell_type": "markdown",
   "metadata": {},
   "source": [
    "### Exercise: compute total amount per name"
   ]
  },
  {
   "cell_type": "markdown",
   "metadata": {},
   "source": [
    "We want to groupby (or foldby) the `name` key, then add up the all of the amounts for each name.\n",
    "\n",
    "Steps\n",
    "\n",
    "1.  Create a small function that, given a dictionary like \n",
    "\n",
    "        {'name': 'Alice', 'transactions': [{'amount': 1, 'id': 123}, {'amount': 2, 'id': 456}]}\n",
    "        \n",
    "    produces the sum of the amounts, e.g. `3`\n",
    "    \n",
    "2.  Slightly change the binary operator of the `foldby` example above so that the binary operator doesn't count the number of entries, but instead accumulates the sum of the amounts."
   ]
  },
  {
   "cell_type": "code",
   "execution_count": null,
   "metadata": {},
   "outputs": [],
   "source": [
    "# Your code here..."
   ]
  },
  {
   "cell_type": "markdown",
   "metadata": {},
   "source": [
    "## DataFrames"
   ]
  },
  {
   "cell_type": "markdown",
   "metadata": {},
   "source": [
    "For the same reasons that Pandas is often faster than pure Python, `dask.dataframe` can be faster than `dask.bag`.  We will work more with DataFrames later, but from for the bag point of view, they are frequently the end-point of the \"messy\" part of data ingestion—once the data can be made into a data-frame, then complex split-apply-combine logic will become much more straight-forward and efficient.\n",
    "\n",
    "You can transform a bag with a simple tuple or flat dictionary structure into a `dask.dataframe` with the `to_dataframe` method."
   ]
  },
  {
   "cell_type": "code",
   "execution_count": null,
   "metadata": {},
   "outputs": [],
   "source": [
    "df1 = js.to_dataframe()\n",
    "df1.head()"
   ]
  },
  {
   "cell_type": "markdown",
   "metadata": {},
   "source": [
    "This now looks like a well-defined DataFrame, and we can apply Pandas-like computations to it efficiently."
   ]
  },
  {
   "cell_type": "markdown",
   "metadata": {},
   "source": [
    "Using a Dask DataFrame, how long does it take to do our prior computation of numbers of people with the same name?  It turns out that `dask.dataframe.groupby()` beats `dask.bag.groupby()` more than an order of magnitude; but it still cannot match `dask.bag.foldby()` for this case."
   ]
  },
  {
   "cell_type": "code",
   "execution_count": null,
   "metadata": {},
   "outputs": [],
   "source": [
    "%time df1.groupby('name').id.count().compute().head()"
   ]
  },
  {
   "cell_type": "markdown",
   "metadata": {},
   "source": [
    "### Denormalization"
   ]
  },
  {
   "cell_type": "markdown",
   "metadata": {},
   "source": [
    "This DataFrame format is less-than-optimal because the `transactions` column is filled with nested data so Pandas has to revert to `object` dtype, which is quite slow in Pandas.  Ideally we want to transform to a dataframe only after we have flattened our data so that each record is a single `int`, `string`, `float`, etc.."
   ]
  },
  {
   "cell_type": "code",
   "execution_count": null,
   "metadata": {},
   "outputs": [],
   "source": [
    "def denormalize(record):\n",
    "    # returns a list for every nested item, each transaction of each person\n",
    "    return [{'id': record['id'], \n",
    "             'name': record['name'], \n",
    "             'amount': transaction['amount'], \n",
    "             'transaction-id': transaction['transaction-id']}\n",
    "            for transaction in record['transactions']]\n",
    "\n",
    "transactions = js.map(denormalize).flatten()\n",
    "transactions.take(3)"
   ]
  },
  {
   "cell_type": "code",
   "execution_count": null,
   "metadata": {},
   "outputs": [],
   "source": [
    "df = transactions.to_dataframe()\n",
    "df.head()"
   ]
  },
  {
   "cell_type": "code",
   "execution_count": null,
   "metadata": {},
   "outputs": [],
   "source": [
    "%%time\n",
    "# number of transactions per name\n",
    "# note that the time here includes the data load and ingestion\n",
    "df.groupby('name')['transaction-id'].count().compute()"
   ]
  },
  {
   "cell_type": "markdown",
   "metadata": {},
   "source": [
    "## Limitations"
   ]
  },
  {
   "cell_type": "markdown",
   "metadata": {},
   "source": [
    "Bags provide very general computation (any Python function.)  This generality\n",
    "comes at cost.  Bags have the following known limitations\n",
    "\n",
    "1.  Bag operations tend to be slower than array/dataframe computations in the\n",
    "    same way that Python tends to be slower than NumPy/Pandas\n",
    "2.  ``Bag.groupby`` is slow.  You should try to use ``Bag.foldby`` if possible.\n",
    "    Using ``Bag.foldby`` requires more thought. Even better, consider creating\n",
    "    a normalised dataframe."
   ]
  },
  {
   "cell_type": "markdown",
   "metadata": {},
   "source": [
    "## Learn More\n",
    "\n",
    "* [Bag documentation](https://docs.dask.org/en/latest/bag.html)\n",
    "* [Bag screencast](https://youtu.be/-qIiJ1XtSv0)\n",
    "* [Bag API](https://docs.dask.org/en/latest/bag-api.html)\n",
    "* [Bag examples](https://examples.dask.org/bag.html)"
   ]
  },
  {
   "cell_type": "markdown",
   "metadata": {},
   "source": [
    "## Shutdown"
   ]
  },
  {
   "cell_type": "code",
   "execution_count": null,
   "metadata": {},
   "outputs": [],
   "source": [
    "client.shutdown()"
   ]
  }
 ],
 "metadata": {
  "anaconda-cloud": {},
  "kernelspec": {
   "display_name": "Python 3",
   "language": "python",
   "name": "python3"
  },
  "language_info": {
   "codemirror_mode": {
    "name": "ipython",
    "version": 3
   },
   "file_extension": ".py",
   "mimetype": "text/x-python",
   "name": "python",
   "nbconvert_exporter": "python",
   "pygments_lexer": "ipython3",
   "version": "3.7.8"
  }
 },
 "nbformat": 4,
 "nbformat_minor": 4
}
